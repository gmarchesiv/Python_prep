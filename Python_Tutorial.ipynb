{
 "cells": [
  {
   "attachments": {},
   "cell_type": "markdown",
   "id": "3d15eca7",
   "metadata": {},
   "source": [
    "# Python tutorial  \n",
    "\n",
    "**by Giancarlo Marchesi**"
   ]
  },
  {
   "cell_type": "markdown",
   "id": "939f4de0",
   "metadata": {
    "toc": true
   },
   "source": [
    "<h1>Table of Contents<span class=\"tocSkip\"></span></h1>\n",
    "<div class=\"toc\"><ul class=\"toc-item\"><li><span><a href=\"#Using-For-Loops\" data-toc-modified-id=\"Using-For-Loops-1\"><span class=\"toc-item-num\">1&nbsp;&nbsp;</span>Using For Loops</a></span><ul class=\"toc-item\"><li><span><a href=\"#Identifying-even-numbers-in-a-list\" data-toc-modified-id=\"Identifying-even-numbers-in-a-list-1.1\"><span class=\"toc-item-num\">1.1&nbsp;&nbsp;</span>Identifying even numbers in a list</a></span></li><li><span><a href=\"#Printing-elements-of-a-list-in-a-string-statement\" data-toc-modified-id=\"Printing-elements-of-a-list-in-a-string-statement-1.2\"><span class=\"toc-item-num\">1.2&nbsp;&nbsp;</span>Printing elements of a list in a string statement</a></span></li><li><span><a href=\"#Mathematical-operations-using-the-range-and-length-of-a-list\" data-toc-modified-id=\"Mathematical-operations-using-the-range-and-length-of-a-list-1.3\"><span class=\"toc-item-num\">1.3&nbsp;&nbsp;</span>Mathematical operations using the range and length of a list</a></span></li><li><span><a href=\"#Create-and-print-a-list-where-the-values-are-square-of-numbers-between-1-and-30-(both-included)\" data-toc-modified-id=\"Create-and-print-a-list-where-the-values-are-square-of-numbers-between-1-and-30-(both-included)-1.4\"><span class=\"toc-item-num\">1.4&nbsp;&nbsp;</span>Create and print a list where the values are square of numbers between 1 and 30 (both included)</a></span><ul class=\"toc-item\"><li><span><a href=\"#Cleaner-version-with-list-comprehension\" data-toc-modified-id=\"Cleaner-version-with-list-comprehension-1.4.1\"><span class=\"toc-item-num\">1.4.1&nbsp;&nbsp;</span>Cleaner version with list comprehension</a></span></li></ul></li><li><span><a href=\"#Use-a-for-loop-to-take-a-list-and-print-each-element-of-the-list-in-its-own-line\" data-toc-modified-id=\"Use-a-for-loop-to-take-a-list-and-print-each-element-of-the-list-in-its-own-line-1.5\"><span class=\"toc-item-num\">1.5&nbsp;&nbsp;</span>Use a for loop to take a list and print each element of the list in its own line</a></span><ul class=\"toc-item\"><li><span><a href=\"#Make-a-one-line-sentence\" data-toc-modified-id=\"Make-a-one-line-sentence-1.5.1\"><span class=\"toc-item-num\">1.5.1&nbsp;&nbsp;</span>Make a one line sentence</a></span></li></ul></li><li><span><a href=\"#Write-a-for-loop-that-iterates-over-the-names-list-to-create-a-usernames-list.\" data-toc-modified-id=\"Write-a-for-loop-that-iterates-over-the-names-list-to-create-a-usernames-list.-1.6\"><span class=\"toc-item-num\">1.6&nbsp;&nbsp;</span>Write a for loop that iterates over the names list to create a usernames list.</a></span></li><li><span><a href=\"#Write-a-loop-with-a-break-statement\" data-toc-modified-id=\"Write-a-loop-with-a-break-statement-1.7\"><span class=\"toc-item-num\">1.7&nbsp;&nbsp;</span>Write a loop with a break statement</a></span></li><li><span><a href=\"#Determine-which-numbers-in-a-list-are-prime-numbers\" data-toc-modified-id=\"Determine-which-numbers-in-a-list-are-prime-numbers-1.8\"><span class=\"toc-item-num\">1.8&nbsp;&nbsp;</span>Determine which numbers in a list are prime numbers</a></span></li><li><span><a href=\"#Print-the-name-and-grade-of-the-second-lowest-score-in-an-imputed-list-of-students\" data-toc-modified-id=\"Print-the-name-and-grade-of-the-second-lowest-score-in-an-imputed-list-of-students-1.9\"><span class=\"toc-item-num\">1.9&nbsp;&nbsp;</span>Print the name and grade of the second lowest score in an imputed list of students</a></span></li></ul></li><li><span><a href=\"#Using-While-Loops\" data-toc-modified-id=\"Using-While-Loops-2\"><span class=\"toc-item-num\">2&nbsp;&nbsp;</span>Using While Loops</a></span><ul class=\"toc-item\"><li><span><a href=\"#Use-a-while-loop-for-calculating-a-factorial\" data-toc-modified-id=\"Use-a-while-loop-for-calculating-a-factorial-2.1\"><span class=\"toc-item-num\">2.1&nbsp;&nbsp;</span>Use a while loop for calculating a factorial</a></span></li><li><span><a href=\"#Write-a-loop-that-counts-from-some-number-start_num-by-another-number-count_by-until-you-hit-a-final-number-end_num,-and-calculate-break_num¶\" data-toc-modified-id=\"Write-a-loop-that-counts-from-some-number-start_num-by-another-number-count_by-until-you-hit-a-final-number-end_num,-and-calculate-break_num¶-2.2\"><span class=\"toc-item-num\">2.2&nbsp;&nbsp;</span>Write a loop that counts from some number start_num by another number count_by until you hit a final number end_num, and calculate break_num¶</a></span></li><li><span><a href=\"#Write-a-while-loop-that-finds-the-largest-square-number-smaller-than-an-integer-limit\" data-toc-modified-id=\"Write-a-while-loop-that-finds-the-largest-square-number-smaller-than-an-integer-limit-2.3\"><span class=\"toc-item-num\">2.3&nbsp;&nbsp;</span>Write a while loop that finds the largest square number smaller than an integer limit</a></span></li><li><span><a href=\"#Add-up-the-odd-numbers-in-the-list,-but-only-up-to-the-first-5-odd-numbers-together.-If-there-are-more-than-5-odd-numbers,-you-should-stop-at-the-fifth\" data-toc-modified-id=\"Add-up-the-odd-numbers-in-the-list,-but-only-up-to-the-first-5-odd-numbers-together.-If-there-are-more-than-5-odd-numbers,-you-should-stop-at-the-fifth-2.4\"><span class=\"toc-item-num\">2.4&nbsp;&nbsp;</span>Add up the odd numbers in the list, but only up to the first 5 odd numbers together. If there are more than 5 odd numbers, you should stop at the fifth</a></span></li><li><span><a href=\"#Add-cargo-to-manifest-and-keep-weight-below-200-pounds\" data-toc-modified-id=\"Add-cargo-to-manifest-and-keep-weight-below-200-pounds-2.5\"><span class=\"toc-item-num\">2.5&nbsp;&nbsp;</span>Add cargo to manifest and keep weight below 200 pounds</a></span></li></ul></li><li><span><a href=\"#Using-dictionaries\" data-toc-modified-id=\"Using-dictionaries-3\"><span class=\"toc-item-num\">3&nbsp;&nbsp;</span>Using dictionaries</a></span><ul class=\"toc-item\"><li><span><a href=\"#Modify-a-simple-dictionary\" data-toc-modified-id=\"Modify-a-simple-dictionary-3.1\"><span class=\"toc-item-num\">3.1&nbsp;&nbsp;</span>Modify a simple dictionary</a></span></li><li><span><a href=\"#Count-the-number-of-fruit-in-your-basket\" data-toc-modified-id=\"Count-the-number-of-fruit-in-your-basket-3.2\"><span class=\"toc-item-num\">3.2&nbsp;&nbsp;</span>Count the number of fruit in your basket</a></span></li><li><span><a href=\"#Create-a-dictionary-that-includes-the-count-of-Oscar-nominations-for-each-director-in-the-nominations-list.\" data-toc-modified-id=\"Create-a-dictionary-that-includes-the-count-of-Oscar-nominations-for-each-director-in-the-nominations-list.-3.3\"><span class=\"toc-item-num\">3.3&nbsp;&nbsp;</span>Create a dictionary that includes the count of Oscar nominations for each director in the nominations list.</a></span></li><li><span><a href=\"#Provide-a-dictionary-with-the-count-of-Oscar-wins-for-each-director-in-the-winners-list.\" data-toc-modified-id=\"Provide-a-dictionary-with-the-count-of-Oscar-wins-for-each-director-in-the-winners-list.-3.4\"><span class=\"toc-item-num\">3.4&nbsp;&nbsp;</span>Provide a dictionary with the count of Oscar wins for each director in the winners list.</a></span></li><li><span><a href=\"#Provide-a-list-with-the-name(s)-of-the-director(s)-with-the-most-Oscar-wins.\" data-toc-modified-id=\"Provide-a-list-with-the-name(s)-of-the-director(s)-with-the-most-Oscar-wins.-3.5\"><span class=\"toc-item-num\">3.5&nbsp;&nbsp;</span>Provide a list with the name(s) of the director(s) with the most Oscar wins.</a></span></li><li><span><a href=\"#Count-the-number-of-words-on-a-given-list-and-present-them-in-a-dictionary\" data-toc-modified-id=\"Count-the-number-of-words-on-a-given-list-and-present-them-in-a-dictionary-3.6\"><span class=\"toc-item-num\">3.6&nbsp;&nbsp;</span>Count the number of words on a given list and present them in a dictionary</a></span></li><li><span><a href=\"#Add-the-total-weight-of-a-series-of-labeled-items\" data-toc-modified-id=\"Add-the-total-weight-of-a-series-of-labeled-items-3.7\"><span class=\"toc-item-num\">3.7&nbsp;&nbsp;</span>Add the total weight of a series of labeled items</a></span></li><li><span><a href=\"#Print-the-name-and-grade-of-the-second-lowest-score-in-an-imputed-list-of-students\" data-toc-modified-id=\"Print-the-name-and-grade-of-the-second-lowest-score-in-an-imputed-list-of-students-3.8\"><span class=\"toc-item-num\">3.8&nbsp;&nbsp;</span>Print the name and grade of the second lowest score in an imputed list of students</a></span></li></ul></li><li><span><a href=\"#Manipulating-strings-with-functions\" data-toc-modified-id=\"Manipulating-strings-with-functions-4\"><span class=\"toc-item-num\">4&nbsp;&nbsp;</span>Manipulating strings with functions</a></span><ul class=\"toc-item\"><li><span><a href=\"#Write-a-program-to-reverse-a-string\" data-toc-modified-id=\"Write-a-program-to-reverse-a-string-4.1\"><span class=\"toc-item-num\">4.1&nbsp;&nbsp;</span>Write a program to reverse a string</a></span></li><li><span><a href=\"#Write-a-function-that-accepts-a-string-and-calculate-the-number-of-upper-case-letters-and-lower-case-letters\" data-toc-modified-id=\"Write-a-function-that-accepts-a-string-and-calculate-the-number-of-upper-case-letters-and-lower-case-letters-4.2\"><span class=\"toc-item-num\">4.2&nbsp;&nbsp;</span>Write a function that accepts a string and calculate the number of upper case letters and lower case letters</a></span></li><li><span><a href=\"#Write-a-function-that-checks-whether-a-passed-string-is-palindrome-or-not\" data-toc-modified-id=\"Write-a-function-that-checks-whether-a-passed-string-is-palindrome-or-not-4.3\"><span class=\"toc-item-num\">4.3&nbsp;&nbsp;</span>Write a function that checks whether a passed string is palindrome or not</a></span></li><li><span><a href=\"#Make-a-pyramid-of-a-two-letter-word-with-n-rows\" data-toc-modified-id=\"Make-a-pyramid-of-a-two-letter-word-with-n-rows-4.4\"><span class=\"toc-item-num\">4.4&nbsp;&nbsp;</span>Make a pyramid of a two letter word with n rows</a></span></li><li><span><a href=\"#Without-using-any-string-methods,-try-to-print-the-following:-123\" data-toc-modified-id=\"Without-using-any-string-methods,-try-to-print-the-following:-123-4.5\"><span class=\"toc-item-num\">4.5&nbsp;&nbsp;</span>Without using any string methods, try to print the following: 123</a></span></li><li><span><a href=\"#Read-a-given-string,-change-the-character-at-a-given-index-and-then-print-the-modified-string.\" data-toc-modified-id=\"Read-a-given-string,-change-the-character-at-a-given-index-and-then-print-the-modified-string.-4.6\"><span class=\"toc-item-num\">4.6&nbsp;&nbsp;</span>Read a given string, change the character at a given index and then print the modified string.</a></span></li><li><span><a href=\"#Print-the-number-of-times-that-the-substring-occurs-in-the-given-string.\" data-toc-modified-id=\"Print-the-number-of-times-that-the-substring-occurs-in-the-given-string.-4.7\"><span class=\"toc-item-num\">4.7&nbsp;&nbsp;</span>Print the number of times that the substring occurs in the given string.</a></span></li></ul></li><li><span><a href=\"#Functions-with-integers\" data-toc-modified-id=\"Functions-with-integers-5\"><span class=\"toc-item-num\">5&nbsp;&nbsp;</span>Functions with integers</a></span><ul class=\"toc-item\"><li><span><a href=\"#Write-a-function-that-multiplies-the-elements-in-the-list-by-2\" data-toc-modified-id=\"Write-a-function-that-multiplies-the-elements-in-the-list-by-2-5.1\"><span class=\"toc-item-num\">5.1&nbsp;&nbsp;</span>Write a function that multiplies the elements in the list by 2</a></span><ul class=\"toc-item\"><li><span><a href=\"#Simplified-version-with-list-comprehension\" data-toc-modified-id=\"Simplified-version-with-list-comprehension-5.1.1\"><span class=\"toc-item-num\">5.1.1&nbsp;&nbsp;</span>Simplified version with list comprehension</a></span></li><li><span><a href=\"#Using-input\" data-toc-modified-id=\"Using-input-5.1.2\"><span class=\"toc-item-num\">5.1.2&nbsp;&nbsp;</span>Using input</a></span></li></ul></li><li><span><a href=\"#Write-a-function-to-sum-all-the-numbers-in-a-list\" data-toc-modified-id=\"Write-a-function-to-sum-all-the-numbers-in-a-list-5.2\"><span class=\"toc-item-num\">5.2&nbsp;&nbsp;</span>Write a function to sum all the numbers in a list</a></span></li><li><span><a href=\"#Write-a-function-to-multiply-all-the-numbers-in-a-list\" data-toc-modified-id=\"Write-a-function-to-multiply-all-the-numbers-in-a-list-5.3\"><span class=\"toc-item-num\">5.3&nbsp;&nbsp;</span>Write a function to multiply all the numbers in a list</a></span></li><li><span><a href=\"#Write-a-function-to-check-whether-a-number-falls-in-a-given-range\" data-toc-modified-id=\"Write-a-function-to-check-whether-a-number-falls-in-a-given-range-5.4\"><span class=\"toc-item-num\">5.4&nbsp;&nbsp;</span>Write a function to check whether a number falls in a given range</a></span></li><li><span><a href=\"#Write-a-function-that-takes-a-number-as-a-parameter-and-check-the-number-is-prime-or-not.\" data-toc-modified-id=\"Write-a-function-that-takes-a-number-as-a-parameter-and-check-the-number-is-prime-or-not.-5.5\"><span class=\"toc-item-num\">5.5&nbsp;&nbsp;</span>Write a function that takes a number as a parameter and check the number is prime or not.</a></span><ul class=\"toc-item\"><li><span><a href=\"#Using-input\" data-toc-modified-id=\"Using-input-5.5.1\"><span class=\"toc-item-num\">5.5.1&nbsp;&nbsp;</span>Using input</a></span></li></ul></li><li><span><a href=\"#Write-a-function-to-check-whether-a-number-is-perfect-or-not\" data-toc-modified-id=\"Write-a-function-to-check-whether-a-number-is-perfect-or-not-5.6\"><span class=\"toc-item-num\">5.6&nbsp;&nbsp;</span>Write a function to check whether a number is perfect or not</a></span></li><li><span><a href=\"#Write-a-function-that-prints-out-the-first-n-rows-of-Pascal's-triangle.\" data-toc-modified-id=\"Write-a-function-that-prints-out-the-first-n-rows-of-Pascal's-triangle.-5.7\"><span class=\"toc-item-num\">5.7&nbsp;&nbsp;</span>Write a function that prints out the first n rows of Pascal's triangle.</a></span></li><li><span><a href=\"#Write-a-program-to-access-a-function-inside-a-function\" data-toc-modified-id=\"Write-a-program-to-access-a-function-inside-a-function-5.8\"><span class=\"toc-item-num\">5.8&nbsp;&nbsp;</span>Write a program to access a function inside a function</a></span></li><li><span><a href=\"#Try,-exceptions-and-errors\" data-toc-modified-id=\"Try,-exceptions-and-errors-5.9\"><span class=\"toc-item-num\">5.9&nbsp;&nbsp;</span>Try, exceptions and errors</a></span></li></ul></li><li><span><a href=\"#Lambda-functions:-using-filter-and-map\" data-toc-modified-id=\"Lambda-functions:-using-filter-and-map-6\"><span class=\"toc-item-num\">6&nbsp;&nbsp;</span>Lambda functions: using filter and map</a></span><ul class=\"toc-item\"><li><span><a href=\"#Use-lambda-function-to-return-cities-with-less-than-10-letters-in-their-name\" data-toc-modified-id=\"Use-lambda-function-to-return-cities-with-less-than-10-letters-in-their-name-6.1\"><span class=\"toc-item-num\">6.1&nbsp;&nbsp;</span>Use lambda function to return cities with less than 10 letters in their name</a></span></li><li><span><a href=\"#Use-a-lambda-function-to-find-even-numbers-in-a-list\" data-toc-modified-id=\"Use-a-lambda-function-to-find-even-numbers-in-a-list-6.2\"><span class=\"toc-item-num\">6.2&nbsp;&nbsp;</span>Use a lambda function to find even numbers in a list</a></span></li><li><span><a href=\"#Use-lambda-function-to-calculate-the-cubed-power-of-the-numbers-on-a-list\" data-toc-modified-id=\"Use-lambda-function-to-calculate-the-cubed-power-of-the-numbers-on-a-list-6.3\"><span class=\"toc-item-num\">6.3&nbsp;&nbsp;</span>Use lambda function to calculate the cubed power of the numbers on a list</a></span></li><li><span><a href=\"#Find-the-mean-of-each-list-in-numbers-to-create-the-list-averages\" data-toc-modified-id=\"Find-the-mean-of-each-list-in-numbers-to-create-the-list-averages-6.4\"><span class=\"toc-item-num\">6.4&nbsp;&nbsp;</span>Find the mean of each list in numbers to create the list averages</a></span><ul class=\"toc-item\"><li><span><a href=\"#Trying-the-same-with-a-lambda-function\" data-toc-modified-id=\"Trying-the-same-with-a-lambda-function-6.4.1\"><span class=\"toc-item-num\">6.4.1&nbsp;&nbsp;</span>Trying the same with a lambda function</a></span></li></ul></li></ul></li><li><span><a href=\"#More-list-and-list-comprehension-exercises\" data-toc-modified-id=\"More-list-and-list-comprehension-exercises-7\"><span class=\"toc-item-num\">7&nbsp;&nbsp;</span>More list and list comprehension exercises</a></span><ul class=\"toc-item\"><li><span><a href=\"#Write-a-program-that-takes-a-list-and-returns-a-new-list-with-unique-elements-of-the-first-list\" data-toc-modified-id=\"Write-a-program-that-takes-a-list-and-returns-a-new-list-with-unique-elements-of-the-first-list-7.1\"><span class=\"toc-item-num\">7.1&nbsp;&nbsp;</span>Write a program that takes a list and returns a new list with unique elements of the first list</a></span></li><li><span><a href=\"#Write-a-program-that-accepts-a-hyphen-separated-sequence-of-words-as-input-and-prints-the-words-in-a-hyphen-separated-sequence-after-sorting-them-alphabetically\" data-toc-modified-id=\"Write-a-program-that-accepts-a-hyphen-separated-sequence-of-words-as-input-and-prints-the-words-in-a-hyphen-separated-sequence-after-sorting-them-alphabetically-7.2\"><span class=\"toc-item-num\">7.2&nbsp;&nbsp;</span>Write a program that accepts a hyphen-separated sequence of words as input and prints the words in a hyphen-separated sequence after sorting them alphabetically</a></span></li></ul></li><li><span><a href=\"#Classes\" data-toc-modified-id=\"Classes-8\"><span class=\"toc-item-num\">8&nbsp;&nbsp;</span>Classes</a></span><ul class=\"toc-item\"><li><span><a href=\"#Create-a-class-called-car-with-three-variables:-brand,-price-&amp;-owner\" data-toc-modified-id=\"Create-a-class-called-car-with-three-variables:-brand,-price-&amp;-owner-8.1\"><span class=\"toc-item-num\">8.1&nbsp;&nbsp;</span>Create a class called car with three variables: brand, price &amp; owner</a></span></li><li><span><a href=\"#Fill-the-class-with-data\" data-toc-modified-id=\"Fill-the-class-with-data-8.2\"><span class=\"toc-item-num\">8.2&nbsp;&nbsp;</span>Fill the class with data</a></span></li><li><span><a href=\"#Call-print_ad-method\" data-toc-modified-id=\"Call-print_ad-method-8.3\"><span class=\"toc-item-num\">8.3&nbsp;&nbsp;</span>Call print_ad method</a></span></li><li><span><a href=\"#Change-C3-owner\" data-toc-modified-id=\"Change-C3-owner-8.4\"><span class=\"toc-item-num\">8.4&nbsp;&nbsp;</span>Change C3 owner</a></span></li><li><span><a href=\"#Create-a-class-called-Basket,-which-represents-a-customer's-shopping-basket-for-online-transactions.\" data-toc-modified-id=\"Create-a-class-called-Basket,-which-represents-a-customer's-shopping-basket-for-online-transactions.-8.5\"><span class=\"toc-item-num\">8.5&nbsp;&nbsp;</span>Create a class called Basket, which represents a customer's shopping basket for online transactions.</a></span></li><li><span><a href=\"#Create-the-items,-amounts-and-costs-attributes\" data-toc-modified-id=\"Create-the-items,-amounts-and-costs-attributes-8.6\"><span class=\"toc-item-num\">8.6&nbsp;&nbsp;</span>Create the items, amounts and costs attributes</a></span></li><li><span><a href=\"#Impute-a-basket\" data-toc-modified-id=\"Impute-a-basket-8.7\"><span class=\"toc-item-num\">8.7&nbsp;&nbsp;</span>Impute a basket</a></span></li></ul></li></ul></div>"
   ]
  },
  {
   "cell_type": "markdown",
   "id": "4e94c768",
   "metadata": {},
   "source": [
    "## Using For Loops"
   ]
  },
  {
   "cell_type": "markdown",
   "id": "50fc5478",
   "metadata": {},
   "source": [
    "### Identifying even numbers in a list  "
   ]
  },
  {
   "cell_type": "code",
   "execution_count": 3,
   "id": "9f9d4c21",
   "metadata": {},
   "outputs": [
    {
     "name": "stdout",
     "output_type": "stream",
     "text": [
      "[2, 4, 6, 8, 10]\n"
     ]
    }
   ],
   "source": [
    "numbers=[1,2,3,4,5,6,7,8,9,10]\n",
    "even_list=[]\n",
    "for i in numbers: \n",
    "    if i%2==0:\n",
    "        even_list.append(i)\n",
    "print(even_list)"
   ]
  },
  {
   "cell_type": "code",
   "execution_count": 4,
   "id": "2b3816c9",
   "metadata": {},
   "outputs": [
    {
     "name": "stdout",
     "output_type": "stream",
     "text": [
      "2\n",
      "4\n",
      "6\n",
      "8\n",
      "10\n"
     ]
    }
   ],
   "source": [
    "## To print the numbers outside the list \n",
    "numbers=[1,2,3,4,5,6,7,8,9,10]\n",
    "even_list=[]\n",
    "for i in numbers: \n",
    "    if i%2==0:\n",
    "        even_list.append(i)\n",
    "for i in even_list:\n",
    "    print(i)\n"
   ]
  },
  {
   "cell_type": "code",
   "execution_count": 5,
   "id": "06613e72",
   "metadata": {},
   "outputs": [
    {
     "name": "stdout",
     "output_type": "stream",
     "text": [
      "30\n"
     ]
    }
   ],
   "source": [
    "## Adding the numbers in the even_list \n",
    "numbers=[1,2,3,4,5,6,7,8,9,10]\n",
    "even_list=[]\n",
    "for i in numbers: \n",
    "    if i%2==0:\n",
    "        even_list.append(i)\n",
    "print(sum(even_list))"
   ]
  },
  {
   "cell_type": "markdown",
   "id": "eb0b7dfd",
   "metadata": {},
   "source": [
    "### Printing elements of a list in a string statement"
   ]
  },
  {
   "cell_type": "code",
   "execution_count": 7,
   "id": "4ab3f4f3",
   "metadata": {},
   "outputs": [
    {
     "name": "stdout",
     "output_type": "stream",
     "text": [
      "I have a black cat\n",
      "I have a grey cat\n",
      "I have a calico cat\n",
      "I have a brown cat\n"
     ]
    }
   ],
   "source": [
    "# Make the list\n",
    "cat_colors = ['black', 'grey', 'calico', 'brown']\n",
    "\n",
    "# loop through colors\n",
    "for color in cat_colors:\n",
    "    print(f\"I have a {color} cat\")"
   ]
  },
  {
   "cell_type": "code",
   "execution_count": 11,
   "id": "4d9b6fd8",
   "metadata": {},
   "outputs": [
    {
     "name": "stdout",
     "output_type": "stream",
     "text": [
      "black\n",
      "grey\n",
      "calico\n",
      "brown\n"
     ]
    }
   ],
   "source": [
    "## Another way of accesing the list is using the index in the list    \n",
    "for i in range(len(cat_colors)):\n",
    "    print(cat_colors[i])"
   ]
  },
  {
   "cell_type": "markdown",
   "id": "92b72748",
   "metadata": {},
   "source": [
    "### Mathematical operations using the range and length of a list "
   ]
  },
  {
   "cell_type": "code",
   "execution_count": 12,
   "id": "9acea506",
   "metadata": {},
   "outputs": [
    {
     "name": "stdout",
     "output_type": "stream",
     "text": [
      " 1 to the power of 0 is 1. \n",
      "\n",
      " 2 to the power of 1 is 2. \n",
      "\n",
      " 3 to the power of 2 is 9. \n",
      "\n",
      " 4 to the power of 3 is 64. \n",
      "\n",
      " 5 to the power of 4 is 625. \n",
      "\n",
      " 6 to the power of 5 is 7776. \n",
      "\n",
      " 7 to the power of 6 is 117649. \n",
      "\n",
      " 8 to the power of 7 is 2097152. \n",
      "\n",
      " 9 to the power of 8 is 43046721. \n",
      "\n",
      " 10 to the power of 9 is 1000000000. \n",
      "\n"
     ]
    }
   ],
   "source": [
    "# use the indices in mathematical operations in the loop\n",
    "a=[1,2,3,4,5,6,7,8,9,10]\n",
    "for i in range(len(a)):\n",
    "    print (f' {a[i]} to the power of {i} is {a[i]**i}.', '\\n')"
   ]
  },
  {
   "cell_type": "code",
   "execution_count": 15,
   "id": "7e3b631a",
   "metadata": {},
   "outputs": [
    {
     "ename": "TypeError",
     "evalue": "'list' object cannot be interpreted as an integer",
     "output_type": "error",
     "traceback": [
      "\u001b[1;31m---------------------------------------------------------------------------\u001b[0m",
      "\u001b[1;31mTypeError\u001b[0m                                 Traceback (most recent call last)",
      "Cell \u001b[1;32mIn [15], line 1\u001b[0m\n\u001b[1;32m----> 1\u001b[0m \u001b[38;5;28;43mrange\u001b[39;49m\u001b[43m(\u001b[49m\u001b[43ma\u001b[49m\u001b[43m)\u001b[49m\n",
      "\u001b[1;31mTypeError\u001b[0m: 'list' object cannot be interpreted as an integer"
     ]
    }
   ],
   "source": [
    "range(a)"
   ]
  },
  {
   "cell_type": "markdown",
   "id": "02472f6c",
   "metadata": {},
   "source": [
    "*Range must always be applied over an integer. That's why we use range(len(a))*"
   ]
  },
  {
   "cell_type": "code",
   "execution_count": 16,
   "id": "30d851d2",
   "metadata": {},
   "outputs": [
    {
     "data": {
      "text/plain": [
       "10"
      ]
     },
     "execution_count": 16,
     "metadata": {},
     "output_type": "execute_result"
    }
   ],
   "source": [
    "len(a)"
   ]
  },
  {
   "cell_type": "code",
   "execution_count": 17,
   "id": "b67f8a33",
   "metadata": {},
   "outputs": [
    {
     "data": {
      "text/plain": [
       "range(0, 10)"
      ]
     },
     "execution_count": 17,
     "metadata": {},
     "output_type": "execute_result"
    }
   ],
   "source": [
    "range(len(a))"
   ]
  },
  {
   "cell_type": "markdown",
   "id": "92ad5f87",
   "metadata": {},
   "source": [
    "Now, this would make more sense if the numbers were elevated to themselves, not the previous number. "
   ]
  },
  {
   "cell_type": "code",
   "execution_count": 19,
   "id": "2a1cecee",
   "metadata": {},
   "outputs": [
    {
     "name": "stdout",
     "output_type": "stream",
     "text": [
      " 1 to the power of 1 is 1. \n",
      "\n",
      " 2 to the power of 2 is 4. \n",
      "\n",
      " 3 to the power of 3 is 27. \n",
      "\n",
      " 4 to the power of 4 is 256. \n",
      "\n",
      " 5 to the power of 5 is 3125. \n",
      "\n",
      " 6 to the power of 6 is 46656. \n",
      "\n",
      " 7 to the power of 7 is 823543. \n",
      "\n",
      " 8 to the power of 8 is 16777216. \n",
      "\n",
      " 9 to the power of 9 is 387420489. \n",
      "\n",
      " 10 to the power of 10 is 10000000000. \n",
      "\n"
     ]
    }
   ],
   "source": [
    "# use the indices in mathematical operations in the loop\n",
    "a=[1,2,3,4,5,6,7,8,9,10]\n",
    "\n",
    "for i in range(len(a)):\n",
    "    print (f' {a[i]} to the power of {i+1} is {a[i]**(i+1)}.', '\\n')"
   ]
  },
  {
   "cell_type": "markdown",
   "id": "561981be",
   "metadata": {},
   "source": [
    "There you go. Remember, ranges always start at zero. "
   ]
  },
  {
   "cell_type": "markdown",
   "id": "c35013d1",
   "metadata": {},
   "source": [
    "### Create and print a list where the values are square of numbers between 1 and 30 (both included)"
   ]
  },
  {
   "cell_type": "code",
   "execution_count": 20,
   "id": "91eb8555",
   "metadata": {},
   "outputs": [
    {
     "name": "stdout",
     "output_type": "stream",
     "text": [
      "[1, 4, 9, 16, 25, 36, 49, 64, 81, 100, 121, 144, 169, 196, 225, 256, 289, 324, 361, 400, 441, 484, 529, 576, 625, 676, 729, 784, 841, 900]\n"
     ]
    }
   ],
   "source": [
    "list_sq=[]\n",
    "for i in range (30): \n",
    "    list_sq.append((i+1)**2)\n",
    "print(list_sq)"
   ]
  },
  {
   "cell_type": "markdown",
   "id": "fa6f4415",
   "metadata": {},
   "source": [
    "#### Cleaner version with list comprehension"
   ]
  },
  {
   "cell_type": "markdown",
   "id": "18f1c5e3",
   "metadata": {},
   "source": [
    "newlist = [expression for item in iterable if condition == True]"
   ]
  },
  {
   "cell_type": "code",
   "execution_count": 23,
   "id": "1fb639de",
   "metadata": {},
   "outputs": [
    {
     "name": "stdout",
     "output_type": "stream",
     "text": [
      "[1, 4, 9, 16, 25, 36, 49, 64, 81, 100, 121, 144, 169, 196, 225, 256, 289, 324, 361, 400, 441, 484, 529, 576, 625, 676, 729, 784, 841, 900]\n"
     ]
    }
   ],
   "source": [
    "list_sq=[k**2 for k in range(1,31)]\n",
    "print(list_sq)"
   ]
  },
  {
   "cell_type": "markdown",
   "id": "37314dd1",
   "metadata": {},
   "source": [
    "### Use a for loop to take a list and print each element of the list in its own line"
   ]
  },
  {
   "cell_type": "code",
   "execution_count": 27,
   "id": "19de7f45",
   "metadata": {},
   "outputs": [
    {
     "name": "stdout",
     "output_type": "stream",
     "text": [
      "the\n",
      "quick\n",
      "brown\n",
      "fox\n",
      "jumped\n",
      "over\n",
      "the\n",
      "lazy\n",
      "dog\n"
     ]
    }
   ],
   "source": [
    "sentence = [\"the\", \"quick\", \"brown\", \"fox\", \"jumped\", \"over\", \"the\", \"lazy\", \"dog\"]\n",
    "for i in sentence: \n",
    "    print(i)"
   ]
  },
  {
   "cell_type": "markdown",
   "id": "d0a70ecb",
   "metadata": {},
   "source": [
    "#### Make a one line sentence"
   ]
  },
  {
   "cell_type": "code",
   "execution_count": 38,
   "id": "fe427eb2",
   "metadata": {},
   "outputs": [],
   "source": [
    "fin_sentence=\"\"\n",
    "for i in sentence: \n",
    "    fin_sentence = fin_sentence + i + \" \""
   ]
  },
  {
   "cell_type": "code",
   "execution_count": 39,
   "id": "4de2eb8e",
   "metadata": {},
   "outputs": [
    {
     "data": {
      "text/plain": [
       "'the quick brown fox jumped over the lazy dog '"
      ]
     },
     "execution_count": 39,
     "metadata": {},
     "output_type": "execute_result"
    }
   ],
   "source": [
    "fin_sentence"
   ]
  },
  {
   "cell_type": "markdown",
   "id": "43b28b27",
   "metadata": {},
   "source": [
    "### Write a for loop that iterates over the names list to create a usernames list."
   ]
  },
  {
   "cell_type": "code",
   "execution_count": 40,
   "id": "a4d91b1d",
   "metadata": {},
   "outputs": [
    {
     "name": "stdout",
     "output_type": "stream",
     "text": [
      "['edward_van_halen', 'alex_van_halen', 'david_lee_roth', 'michael_anthony']\n"
     ]
    }
   ],
   "source": [
    "names = [\"Edward Van Halen\", \"Alex Van Halen\", \"David Lee Roth\", \"Michael Anthony\"]\n",
    "\n",
    "for i in range(len(names)): \n",
    "    names[i]=names[i].lower()\n",
    "    names[i]=names[i].replace(' ', '_')\n",
    "\n",
    "print(names)"
   ]
  },
  {
   "cell_type": "markdown",
   "id": "61fbf186",
   "metadata": {},
   "source": [
    "### Write a loop with a break statement"
   ]
  },
  {
   "cell_type": "code",
   "execution_count": 41,
   "id": "49aeb0e5",
   "metadata": {},
   "outputs": [
    {
     "name": "stdout",
     "output_type": "stream",
     "text": [
      "Local Man Eaten by Shark Legislature Announces New Laws Peasant Discovers Violence Inherent in System Cat Rescues Fireman Stuck in Tree Brav\n"
     ]
    }
   ],
   "source": [
    "# Create the news ticker by adding headlines from the headlines list, inserting a space in between each headline. \n",
    "#If necessary, truncate the last headline in the middle so that news_ticker is exactly 140 characters long.\n",
    "\n",
    "headlines = [\"Local Man Eaten by Shark\",\n",
    "             \"Legislature Announces New Laws\",\n",
    "             \"Peasant Discovers Violence Inherent in System\",\n",
    "             \"Cat Rescues Fireman Stuck in Tree\",\n",
    "             \"Brave Knight Runs Away\",\n",
    "             \"Papperbok Review: Totally Teriffic\"]\n",
    "ticker=\"\"\n",
    "\n",
    "    \n",
    "for headline in headlines:\n",
    "    ticker += headline + ' '\n",
    "    if len(ticker)>= 140:\n",
    "        ticker = ticker [0:140]\n",
    "        break\n",
    "    \n",
    "print(ticker)"
   ]
  },
  {
   "cell_type": "markdown",
   "id": "a38f2b0a",
   "metadata": {},
   "source": [
    "*The brave statement stops the counting*"
   ]
  },
  {
   "cell_type": "markdown",
   "id": "5b023994",
   "metadata": {},
   "source": [
    "### Determine which numbers in a list are prime numbers"
   ]
  },
  {
   "cell_type": "code",
   "execution_count": 42,
   "id": "1e3ee2a9",
   "metadata": {},
   "outputs": [
    {
     "name": "stdout",
     "output_type": "stream",
     "text": [
      "13 is a prime number\n",
      "53 is a prime number\n",
      "79 is a prime number\n",
      "26 is not a prime number\n",
      "39 is not a prime number\n",
      "51 is not a prime number\n",
      "57 is not a prime number\n",
      "85 is not a prime number\n",
      "91 is not a prime number\n"
     ]
    }
   ],
   "source": [
    "check_prime = [13, 26, 39, 51, 53, 57, 79, 85, 91]\n",
    "prime=[]\n",
    "not_prime=[]\n",
    "\n",
    "for number in check_prime: \n",
    "    for i in range (2, number):\n",
    "        if number % i ==0:\n",
    "            not_prime.append(number)\n",
    "            break\n",
    "        if i == number-1:\n",
    "            prime.append(number)\n",
    "\n",
    "for n in prime: \n",
    "    print (f'{n} is a prime number') \n",
    "\n",
    "for k in not_prime: \n",
    "    print (f'{k} is not a prime number') "
   ]
  },
  {
   "cell_type": "markdown",
   "id": "ce5bac88",
   "metadata": {},
   "source": [
    "### Print the name and grade of the second lowest score in an imputed list of students "
   ]
  },
  {
   "cell_type": "code",
   "execution_count": 348,
   "id": "81919784",
   "metadata": {},
   "outputs": [
    {
     "name": "stdout",
     "output_type": "stream",
     "text": [
      "The number of students in the class are: 5\n",
      "The name of the student:Alex\n",
      "The student's score: 89\n",
      "The name of the student:Eddie\n",
      "The student's score: 98\n",
      "The name of the student:Dave\n",
      "The student's score: 99\n",
      "The name of the student:Mike\n",
      "The student's score: 87\n",
      "The name of the student:Sammy\n",
      "The student's score: 79\n"
     ]
    }
   ],
   "source": [
    "### Acquiring the name of students and scores\n",
    "new_list=[]\n",
    "for _ in range(int(input('The number of students in the class are: '))):\n",
    "        name = input('The name of the student:')\n",
    "        score = float(input(\"The student's score: \"))\n",
    "        new_list.append([name,score])\n"
   ]
  },
  {
   "cell_type": "code",
   "execution_count": 349,
   "id": "9502731f",
   "metadata": {},
   "outputs": [
    {
     "data": {
      "text/plain": [
       "[['Alex', 89.0],\n",
       " ['Eddie', 98.0],\n",
       " ['Dave', 99.0],\n",
       " ['Mike', 87.0],\n",
       " ['Sammy', 79.0]]"
      ]
     },
     "execution_count": 349,
     "metadata": {},
     "output_type": "execute_result"
    }
   ],
   "source": [
    "new_list"
   ]
  },
  {
   "cell_type": "markdown",
   "id": "50d8d07c",
   "metadata": {},
   "source": [
    "The lowest grade belongs to Sammy. The second lowest grade belongs to Mike. So print Mike's name and grade as the answer. "
   ]
  },
  {
   "cell_type": "code",
   "execution_count": 353,
   "id": "e8082d54",
   "metadata": {},
   "outputs": [
    {
     "name": "stdout",
     "output_type": "stream",
     "text": [
      "Mike got the second lowest grade in the test with 87.0\n"
     ]
    }
   ],
   "source": [
    "## Get grades\n",
    "grades=[]\n",
    "for i in new_list:\n",
    "    grades.append(i[1])\n",
    "\n",
    "## get second lowest grade    \n",
    "other_grades=[]\n",
    "for h in grades:\n",
    "    if h != min(grades):\n",
    "        other_grades.append(h)\n",
    "\n",
    "second_low_grade=min(other_grades)\n",
    "\n",
    "# Step two, pull the name(s) of the second lowest grade \n",
    "names=[]\n",
    "for i in new_list:\n",
    "    if second_low_grade==i[1]:\n",
    "        names.append(i[0])\n",
    "for i in names:\n",
    "    print(f\"{i} got the second lowest grade in the test with {second_low_grade}\")"
   ]
  },
  {
   "cell_type": "markdown",
   "id": "8aad19cd",
   "metadata": {},
   "source": [
    "## Using While Loops"
   ]
  },
  {
   "cell_type": "markdown",
   "id": "2bff1fab",
   "metadata": {},
   "source": [
    "### Use a while loop for calculating a factorial "
   ]
  },
  {
   "cell_type": "code",
   "execution_count": 43,
   "id": "45b3fb8d",
   "metadata": {},
   "outputs": [
    {
     "name": "stdout",
     "output_type": "stream",
     "text": [
      "720\n"
     ]
    }
   ],
   "source": [
    "number=6 \n",
    "factorial=1 \n",
    "current=1\n",
    "\n",
    "while current <= number: \n",
    "    factorial *= current\n",
    "    current +=1\n",
    "\n",
    "print(factorial)"
   ]
  },
  {
   "cell_type": "markdown",
   "id": "6d78dcda",
   "metadata": {},
   "source": [
    "### Write a loop that counts from some number start_num by another number count_by until you hit a final number end_num, and calculate break_num¶"
   ]
  },
  {
   "cell_type": "code",
   "execution_count": 50,
   "id": "3d68ea19",
   "metadata": {},
   "outputs": [
    {
     "name": "stdout",
     "output_type": "stream",
     "text": [
      "Please enter a start value in integer format\n",
      "760\n",
      "763\n",
      "766\n",
      "769\n",
      "772\n",
      "775\n",
      "778\n",
      "781\n",
      "784\n",
      "787\n",
      "790\n",
      "793\n",
      "796\n",
      "799\n"
     ]
    }
   ],
   "source": [
    "print('Please enter a start value in integer format')\n",
    "start_num=int(input())\n",
    "## Note: input gives you a string format\n",
    "count_by= 3\n",
    "end_num= 800\n",
    "break_num = start_num\n",
    "\n",
    "if start_num > end_num: \n",
    "    print ('Oops! The start value must be below 800. Please try again.')\n",
    "\n",
    "else:\n",
    "    while break_num + count_by <= end_num:\n",
    "          break_num= break_num + count_by\n",
    "          print(break_num)"
   ]
  },
  {
   "cell_type": "markdown",
   "id": "85cbdf38",
   "metadata": {},
   "source": [
    "### Write a while loop that finds the largest square number smaller than an integer limit"
   ]
  },
  {
   "cell_type": "code",
   "execution_count": 54,
   "id": "ea08352c",
   "metadata": {},
   "outputs": [
    {
     "name": "stdout",
     "output_type": "stream",
     "text": [
      "Please enter an integer limit number\n",
      "446\n",
      "The square number below the limit is 441\n"
     ]
    }
   ],
   "source": [
    "print('Please enter an integer limit number')\n",
    "\n",
    "limit_num=int(input())\n",
    "square=1\n",
    "\n",
    "while (square +1)**2 < limit_num: \n",
    "       square += 1\n",
    "    \n",
    "nearest_square=square**2\n",
    "\n",
    "print (f'The square number below the limit is {nearest_square}')"
   ]
  },
  {
   "cell_type": "markdown",
   "id": "fde76fea",
   "metadata": {},
   "source": [
    "### Add up the odd numbers in the list, but only up to the first 5 odd numbers together. If there are more than 5 odd numbers, you should stop at the fifth"
   ]
  },
  {
   "cell_type": "code",
   "execution_count": 73,
   "id": "0e8171b0",
   "metadata": {},
   "outputs": [
    {
     "name": "stdout",
     "output_type": "stream",
     "text": [
      "The numbers of odd numbers added are: 5\n",
      "The sum of the odd numbers added is: 993\n"
     ]
    }
   ],
   "source": [
    "num_list = [422, 136, 524, 85, 96, 719, 85, 92, 10, 17, 312, 542, 87, 23, 86, 191, 116, 35, 173, 45, 149, 59, 84, 69, 113, 166]\n",
    "count_odd = 0\n",
    "list_sum = 0\n",
    "\n",
    "for i in num_list: \n",
    "    if i%2 != 0:\n",
    "        count_odd +=1\n",
    "        list_sum  +=i\n",
    "        if count_odd ==5: \n",
    "             break\n",
    "    \n",
    "print (\"The numbers of odd numbers added are: {}\".format(count_odd))\n",
    "print (\"The sum of the odd numbers added is: {}\".format(list_sum))"
   ]
  },
  {
   "cell_type": "code",
   "execution_count": 74,
   "id": "60e02078",
   "metadata": {},
   "outputs": [
    {
     "name": "stdout",
     "output_type": "stream",
     "text": [
      "The numbers of odd numbers added are: 5\n",
      "The sum of the odd numbers added is: 993\n"
     ]
    }
   ],
   "source": [
    "num_list = [422, 136, 524, 85, 96, 719, 85, 92, 10, 17, 312, 542, 87, 23, 86, 191, 116, 35, 173, 45, 149, 59, 84, 69, 113, 166]\n",
    "count_odd = 0\n",
    "list_sum = 0\n",
    "i = 0\n",
    "len_num_list = len(num_list)\n",
    "\n",
    "while (count_odd < 5) and (i < len_num_list): \n",
    "    if num_list[i] % 2 != 0:\n",
    "        list_sum += num_list[i]\n",
    "        count_odd += 1\n",
    "    i += 1\n",
    "\n",
    "print (\"The numbers of odd numbers added are: {}\".format(count_odd))\n",
    "print (\"The sum of the odd numbers added is: {}\".format(list_sum))\n"
   ]
  },
  {
   "cell_type": "markdown",
   "id": "87d331de",
   "metadata": {},
   "source": [
    "### Add cargo to manifest and keep weight below 200 pounds"
   ]
  },
  {
   "cell_type": "code",
   "execution_count": 75,
   "id": "603b6c35",
   "metadata": {},
   "outputs": [
    {
     "name": "stdout",
     "output_type": "stream",
     "text": [
      "Method 1\n",
      "current_weight: 0\n",
      "adding 15 bananas\n",
      "current_weight: 15\n",
      "adding 24 mattresses\n",
      "current_weight: 39\n",
      "adding 42 dog kennels\n",
      "current_weight: 81\n",
      "adding 120 machine\n",
      "current_weight: 201\n",
      " breaking loop now\n",
      "The final weight is 201\n",
      "The final items are ['bananas', 'mattresses', 'dog kennels', 'machine']\n"
     ]
    }
   ],
   "source": [
    "manifest = [(\"bananas\", 15), (\"mattresses\", 24), (\"dog kennels\", 42), (\"machine\", 120), (\"cheeses\", 5)]\n",
    "\n",
    "print ('Method 1')\n",
    "\n",
    "weight=0\n",
    "items=[]\n",
    "\n",
    "## You can separate the elements of a tuple by giving them names (despite being in parenthesis)\n",
    "for cargo_name, cargo_weight in manifest: \n",
    "    print ('current_weight: {}'.format(weight))\n",
    "    if weight  >= 200:\n",
    "        print (' breaking loop now')\n",
    "        break\n",
    "    else: \n",
    "        print ('adding {} {}'.format(cargo_weight, cargo_name))\n",
    "        items.append(cargo_name)\n",
    "        weight += cargo_weight\n",
    "\n",
    "print ('The final weight is {}'.format(weight))\n",
    "print ('The final items are {}'.format(items))"
   ]
  },
  {
   "cell_type": "code",
   "execution_count": 77,
   "id": "1d87a81c",
   "metadata": {},
   "outputs": [
    {
     "name": "stdout",
     "output_type": "stream",
     "text": [
      "Method 2\n",
      "current_weight: 0\n",
      "adding 15 bananas\n",
      "current_weight: 15\n",
      "adding 24 mattresses\n",
      "current_weight: 39\n",
      "adding 42 dog kennels\n",
      "current_weight: 81\n",
      "current_weight: 81\n",
      "adding 5 cheeses\n",
      "The final weight is 86\n",
      "The final items are ['bananas', 'mattresses', 'dog kennels', 'cheeses']\n"
     ]
    }
   ],
   "source": [
    "# Method 2: skips an iteration if adding an item that would exceed the limit and breaks the loop if weight \n",
    "#is exactly the value of the limit\n",
    "\n",
    "print ('Method 2')\n",
    "\n",
    "weight=0\n",
    "items=[]\n",
    "\n",
    "for cargo_name, cargo_weight in manifest: \n",
    "    print ('current_weight: {}'.format(weight))\n",
    "    if weight  >= 200:\n",
    "        print (' breaking loop now')\n",
    "        break\n",
    "    elif weight + cargo_weight >= 200:\n",
    "        pass\n",
    "    else: \n",
    "        print ('adding {} {}'.format(cargo_weight, cargo_name))\n",
    "        items.append(cargo_name)\n",
    "        weight += cargo_weight\n",
    "\n",
    "print ('The final weight is {}'.format(weight))\n",
    "print ('The final items are {}'.format(items))\n"
   ]
  },
  {
   "cell_type": "markdown",
   "id": "4f9afad1",
   "metadata": {},
   "source": [
    "## Using dictionaries"
   ]
  },
  {
   "cell_type": "markdown",
   "id": "a431d1ad",
   "metadata": {},
   "source": [
    "### Modify a simple dictionary"
   ]
  },
  {
   "cell_type": "code",
   "execution_count": 125,
   "id": "9eac0f37",
   "metadata": {},
   "outputs": [],
   "source": [
    "cast = {\n",
    "           \"Jerry Seinfeld\": \"Jerry Seinfeld\",\n",
    "           \"Julia Louis-Dreyfus\": \"Elaine Benes\",\n",
    "           \"Jason Alexander\": \"George Costanza\",\n",
    "           \"Michael Richards\": \"Cosmo Kramer\"\n",
    "       }"
   ]
  },
  {
   "cell_type": "code",
   "execution_count": 126,
   "id": "085e4f49",
   "metadata": {},
   "outputs": [],
   "source": [
    "cast['Jerry Stiller']='Frank Costanza'"
   ]
  },
  {
   "cell_type": "code",
   "execution_count": 127,
   "id": "5d3d2f3c",
   "metadata": {},
   "outputs": [],
   "source": [
    "cast['Wayne Knight']='Newman'"
   ]
  },
  {
   "cell_type": "code",
   "execution_count": 128,
   "id": "904a8028",
   "metadata": {},
   "outputs": [
    {
     "name": "stdout",
     "output_type": "stream",
     "text": [
      "Actor: Jerry Seinfeld, Role: Jerry Seinfeld\n",
      "Actor: Julia Louis-Dreyfus, Role: Elaine Benes\n",
      "Actor: Jason Alexander, Role: George Costanza\n",
      "Actor: Michael Richards, Role: Cosmo Kramer\n",
      "Actor: Jerry Stiller, Role: Frank Costanza\n",
      "Actor: Wayne Knight, Role: Newman\n"
     ]
    }
   ],
   "source": [
    "for key, value in cast.items():\n",
    "    print(f'Actor: {key}, Role: {value}')"
   ]
  },
  {
   "cell_type": "markdown",
   "id": "6b9f60fe",
   "metadata": {},
   "source": [
    "### Count the number of fruit in your basket"
   ]
  },
  {
   "cell_type": "code",
   "execution_count": 130,
   "id": "190e1847",
   "metadata": {},
   "outputs": [
    {
     "name": "stdout",
     "output_type": "stream",
     "text": [
      "The number of fruit items in the basket is 23\n"
     ]
    }
   ],
   "source": [
    "## important to note that bracketing basket was not necessary\n",
    "basket= {'apples': 4, 'oranges': 19, 'kites': 3, 'sandwiches': 8}\n",
    "fruits = ['apples', 'oranges', 'pears', 'peaches', 'grapes', 'bananas']\n",
    "\n",
    "fruit_items=0\n",
    "for key, value in basket.items():\n",
    "    if key in fruits: \n",
    "        fruit_items= fruit_items + value\n",
    "print(f'The number of fruit items in the basket is {fruit_items}')"
   ]
  },
  {
   "cell_type": "markdown",
   "id": "7f0299df",
   "metadata": {},
   "source": [
    "### Create a dictionary that includes the count of Oscar nominations for each director in the nominations list."
   ]
  },
  {
   "cell_type": "code",
   "execution_count": 79,
   "id": "42b840d6",
   "metadata": {},
   "outputs": [],
   "source": [
    "nominated = {1931: ['Norman Taurog', 'Wesley Ruggles', 'Clarence Brown', 'Lewis Milestone', 'Josef Von Sternberg'], 1932: ['Frank Borzage', 'King Vidor', 'Josef Von Sternberg'], 1933: ['Frank Lloyd', 'Frank Capra', 'George Cukor'], 1934: ['Frank Capra', 'Victor Schertzinger', 'W. S. Van Dyke'], 1935: ['John Ford', 'Michael Curtiz', 'Henry Hathaway', 'Frank Lloyd'], 1936: ['Frank Capra', 'William Wyler', 'Robert Z. Leonard', 'Gregory La Cava', 'W. S. Van Dyke'], 1937: ['Leo McCarey', 'Sidney Franklin', 'William Dieterle', 'Gregory La Cava', 'William Wellman'], 1938: ['Frank Capra', 'Michael Curtiz', 'Norman Taurog', 'King Vidor', 'Michael Curtiz'], 1939: ['Sam Wood', 'Frank Capra', 'John Ford', 'William Wyler', 'Victor Fleming'], 1940: ['John Ford', 'Sam Wood', 'William Wyler', 'George Cukor', 'Alfred Hitchcock'], 1941: ['John Ford', 'Orson Welles', 'Alexander Hall', 'William Wyler', 'Howard Hawks'], 1942: ['Sam Wood', 'Mervyn LeRoy', 'John Farrow', 'Michael Curtiz', 'William Wyler'], 1943: ['Michael Curtiz', 'Ernst Lubitsch', 'Clarence Brown', 'George Stevens', 'Henry King'], 1944: ['Leo McCarey', 'Billy Wilder', 'Otto Preminger', 'Alfred Hitchcock', 'Henry King'], 1945: ['Billy Wilder', 'Leo McCarey', 'Clarence Brown', 'Jean Renoir', 'Alfred Hitchcock'], 1946: ['David Lean', 'Frank Capra', 'Robert Siodmak', 'Clarence Brown', 'William Wyler'], 1947: ['Elia Kazan', 'Henry Koster', 'Edward Dmytryk', 'George Cukor', 'David Lean'], 1948: ['John Huston', 'Laurence Olivier', 'Jean Negulesco', 'Fred Zinnemann', 'Anatole Litvak'], 1949: ['Joseph L. Mankiewicz', 'Robert Rossen', 'William A. Wellman', 'Carol Reed', 'William Wyler'], 1950: ['Joseph L. Mankiewicz', 'John Huston', 'George Cukor', 'Billy Wilder', 'Carol Reed'], 1951: ['George Stevens', 'John Huston', 'Vincente Minnelli', 'William Wyler', 'Elia Kazan'], 1952: ['John Ford', 'Joseph L. Mankiewicz', 'Cecil B. DeMille', 'Fred Zinnemann', 'John Huston'], 1953: ['Fred Zinnemann', 'Charles Walters', 'William Wyler', 'George Stevens', 'Billy Wilder'], 1954: ['Elia Kazan', 'George Seaton', 'William Wellman', 'Alfred Hitchcock', 'Billy Wilder'], 1955: ['Delbert Mann', 'John Sturges', 'Elia Kazan', 'Joshua Logan', 'David Lean'], 1956: ['George Stevens', 'Michael Anderson', 'William Wyler', 'Walter Lang', 'King Vidor'], 1957: ['David Lean', 'Mark Robson', 'Joshua Logan', 'Sidney Lumet', 'Billy Wilder'], 1958: ['Richard Brooks', 'Stanley Kramer', 'Robert Wise', 'Mark Robson', 'Vincente Minnelli'], 1959: ['George Stevens', 'Fred Zinnemann', 'Jack Clayton', 'Billy Wilder', 'William Wyler'], 1960: ['Billy Wilder', 'Jules Dassin', 'Alfred Hitchcock', 'Jack Cardiff', 'Fred Zinnemann'], 1961: ['J. Lee Thompson', 'Robert Rossen', 'Stanley Kramer', 'Federico Fellini', 'Robert Wise', 'Jerome Robbins'], 1962: ['David Lean', 'Frank Perry', 'Pietro Germi', 'Arthur Penn', 'Robert Mulligan'], 1963: ['Elia Kazan', 'Otto Preminger', 'Federico Fellini', 'Martin Ritt', 'Tony Richardson'], 1964: ['George Cukor', 'Peter Glenville', 'Stanley Kubrick', 'Robert Stevenson', 'Michael Cacoyannis'], 1965: ['William Wyler', 'John Schlesinger', 'David Lean', 'Hiroshi Teshigahara', 'Robert Wise'], 1966: ['Fred Zinnemann', 'Michelangelo Antonioni', 'Claude Lelouch', 'Richard Brooks', 'Mike Nichols'], 1967: ['Arthur Penn', 'Stanley Kramer', 'Richard Brooks', 'Norman Jewison', 'Mike Nichols'], 1968: ['Carol Reed', 'Gillo Pontecorvo', 'Anthony Harvey', 'Franco Zeffirelli', 'Stanley Kubrick'], 1969: ['John Schlesinger', 'Arthur Penn', 'George Roy Hill', 'Sydney Pollack', 'Costa-Gavras'], 1970: ['Franklin J. Schaffner', 'Federico Fellini', 'Arthur Hiller', 'Robert Altman', 'Ken Russell'], 1971: ['Stanley Kubrick', 'Norman Jewison', 'Peter Bogdanovich', 'John Schlesinger', 'William Friedkin'], 1972: ['Bob Fosse', 'John Boorman', 'Jan Troell', 'Francis Ford Coppola', 'Joseph L. Mankiewicz'], 1973: ['George Roy Hill', 'George Lucas', 'Ingmar Bergman', 'William Friedkin', 'Bernardo Bertolucci'], 1974: ['Francis Ford Coppola', 'Roman Polanski', 'Francois Truffaut', 'Bob Fosse', 'John Cassavetes'], 1975: ['Federico Fellini', 'Stanley Kubrick', 'Sidney Lumet', 'Robert Altman', 'Milos Forman'], 1976: ['Alan J. Pakula', 'Ingmar Bergman', 'Sidney Lumet', 'Lina Wertmuller', 'John G. Avildsen'], 1977: ['Steven Spielberg', 'Fred Zinnemann', 'George Lucas', 'Herbert Ross', 'Woody Allen'], 1978: ['Hal Ashby', 'Warren Beatty', 'Buck Henry', 'Woody Allen', 'Alan Parker', 'Michael Cimino'], 1979: ['Bob Fosse', 'Francis Coppola', 'Peter Yates', 'Edouard Molinaro', 'Robert Benton'], 1980: ['David Lynch', 'Martin Scorsese', 'Richard Rush', 'Roman Polanski', 'Robert Redford'], 1981: ['Louis Malle', 'Hugh Hudson', 'Mark Rydell', 'Steven Spielberg', 'Warren Beatty'], 1982: ['Wolfgang Petersen', 'Steven Spielberg', 'Sydney Pollack', 'Sidney Lumet', 'Richard Attenborough'], 1983: ['Peter Yates', 'Ingmar Bergman', 'Mike Nichols', 'Bruce Beresford', 'James L. Brooks'], 1984: ['Woody Allen', 'Roland Joffe', 'David Lean', 'Robert Benton', 'Milos Forman'], 1985: ['Hector Babenco', 'John Huston', 'Akira Kurosawa', 'Peter Weir', 'Sydney Pollack'], 1986: ['David Lynch', 'Woody Allen', 'Roland Joffe', 'James Ivory', 'Oliver Stone'], 1987: ['Bernardo Bertolucci', 'Adrian Lyne', 'John Boorman', 'Norman Jewison', 'Lasse Hallstrom'], 1988: ['Barry Levinson', 'Charles Crichton', 'Martin Scorsese', 'Alan Parker', 'Mike Nichols'], 1989: ['Woody Allen', 'Peter Weir', 'Kenneth Branagh', 'Jim Sheridan', 'Oliver Stone'], 1990: ['Francis Ford Coppola', 'Martin Scorsese', 'Stephen Frears', 'Barbet Schroeder', 'Kevin Costner'], 1991: ['John Singleton', 'Barry Levinson', 'Oliver Stone', 'Ridley Scott', 'Jonathan Demme'], 1992: ['Clint Eastwood', 'Neil Jordan', 'James Ivory', 'Robert Altman', 'Martin Brest'], 1993: ['Jim Sheridan', 'Jane Campion', 'James Ivory', 'Robert Altman', 'Steven Spielberg'], 1994: ['Woody Allen', 'Quentin Tarantino', 'Robert Redford', 'Krzysztof Kieslowski', 'Robert Zemeckis'], 1995: ['Chris Noonan', 'Tim Robbins', 'Mike Figgis', 'Michael Radford', 'Mel Gibson'], 1996: ['Anthony Minghella', 'Joel Coen', 'Milos Forman', 'Mike Leigh', 'Scott Hicks'], 1997: ['Peter Cattaneo', 'Gus Van Sant', 'Curtis Hanson', 'Atom Egoyan', 'James Cameron'], 1998: ['Roberto Benigni', 'John Madden', 'Terrence Malick', 'Peter Weir', 'Steven Spielberg'], 1999: ['Spike Jonze', 'Lasse Hallstrom', 'Michael Mann', 'M. Night Shyamalan', 'Sam Mendes'], 2000: ['Stephen Daldry', 'Ang Lee', 'Steven Soderbergh', 'Ridley Scott', 'Steven Soderbergh'], 2001: ['Ridley Scott', 'Robert Altman', 'Peter Jackson', 'David Lynch', 'Ron Howard'], 2002: ['Rob Marshall', 'Martin Scorsese', 'Stephen Daldry', 'Pedro Almodovar', 'Roman Polanski'], 2003: ['Fernando Meirelles', 'Sofia Coppola', 'Peter Weir', 'Clint Eastwood', 'Peter Jackson'], 2004: ['Martin Scorsese', 'Taylor Hackford', 'Alexander Payne', 'Mike Leigh', 'Clint Eastwood'], 2005: ['Ang Lee', 'Bennett Miller', 'Paul Haggis', 'George Clooney', 'Steven Spielberg'], 2006: ['Alejandro Gonzaalez Inarritu', 'Clint Eastwood', 'Stephen Frears', 'Paul Greengrass', 'Martin Scorsese'], 2007: ['Julian Schnabel', 'Jason Reitman', 'Tony Gilroy', 'Paul Thomas Anderson', 'Joel Coen', 'Ethan Coen'], 2008: ['David Fincher', 'Ron Howard', 'Gus Van Sant', 'Stephen Daldry', 'Danny Boyle'], 2009: ['James Cameron', 'Quentin Tarantino', 'Lee Daniels', 'Jason Reitman', 'Kathryn Bigelow'], 2010: ['Darren Aronofsky', 'David O. Russell', 'David Fincher', 'Ethan Coen', 'Joel Coen', 'Tom Hooper']}\n",
    "winners = {1931: ['Norman Taurog'], 1932: ['Frank Borzage'], 1933: ['Frank Lloyd'], 1934: ['Frank Capra'], 1935: ['John Ford'], 1936: ['Frank Capra'], 1937: ['Leo McCarey'], 1938: ['Frank Capra'], 1939: ['Victor Fleming'], 1940: ['John Ford'], 1941: ['John Ford'], 1942: ['William Wyler'], 1943: ['Michael Curtiz'], 1944: ['Leo McCarey'], 1945: ['Billy Wilder'], 1946: ['William Wyler'], 1947: ['Elia Kazan'], 1948: ['John Huston'], 1949: ['Joseph L. Mankiewicz'], 1950: ['Joseph L. Mankiewicz'], 1951: ['George Stevens'], 1952: ['John Ford'], 1953: ['Fred Zinnemann'], 1954: ['Elia Kazan'], 1955: ['Delbert Mann'], 1956: ['George Stevens'], 1957: ['David Lean'], 1958: ['Vincente Minnelli'], 1959: ['William Wyler'], 1960: ['Billy Wilder'], 1961: ['Jerome Robbins', 'Robert Wise'], 1962: ['David Lean'], 1963: ['Tony Richardson'], 1964: ['George Cukor'], 1965: ['Robert Wise'], 1966: ['Fred Zinnemann'], 1967: ['Mike Nichols'], 1968: ['Carol Reed'], 1969: ['John Schlesinger'], 1970: ['Franklin J. Schaffner'], 1971: ['William Friedkin'], 1972: ['Bob Fosse'], 1973: ['George Roy Hill'], 1974: ['Francis Ford Coppola'], 1975: ['Milos Forman'], 1976: ['John G. Avildsen'], 1977: ['Woody Allen'], 1978: ['Michael Cimino'], 1979: ['Robert Benton'], 1980: ['Robert Redford'], 1981: ['Warren Beatty'], 1982: ['Richard Attenborough'], 1983: ['James L. Brooks'], 1984: ['Milos Forman'], 1985: ['Sydney Pollack'], 1986: ['Oliver Stone'], 1987: ['Bernardo Bertolucci'], 1988: ['Barry Levinson'], 1989: ['Oliver Stone'], 1990: ['Kevin Costner'], 1991: ['Jonathan Demme'], 1992: ['Clint Eastwood'], 1993: ['Steven Spielberg'], 1994: ['Robert Zemeckis'], 1995: ['Mel Gibson'], 1996: ['Anthony Minghella'], 1997: ['James Cameron'], 1998: ['Steven Spielberg'], 1999: ['Sam Mendes'], 2000: ['Steven Soderbergh'], 2001: ['Ron Howard'], 2002: ['Roman Polanski'], 2003: ['Peter Jackson'], 2004: ['Clint Eastwood'], 2005: ['Ang Lee'], 2006: ['Martin Scorsese'], 2007: ['Ethan Coen', 'Joel Coen'], 2008: ['Danny Boyle'], 2009: ['Kathryn Bigelow'], 2010: ['Tom Hooper']}\n",
    "\n",
    "## Creating a dictionary with number of nominations for each director: \n",
    "\n",
    "times_nominated={}\n",
    "\n",
    "for year, directors_list in nominated.items():\n",
    "    for director in directors_list: \n",
    "        if director not in times_nominated:\n",
    "            times_nominated[director]= 1 \n",
    "        else: \n",
    "            times_nominated[director] += 1 \n",
    "            \n",
    "### Important to notice that this is the way you impute and assign value in a dictionary. The for loop is creating\n",
    "### the new dictionary times_nominated"
   ]
  },
  {
   "cell_type": "markdown",
   "id": "f7f44aff",
   "metadata": {},
   "source": [
    "### Provide a dictionary with the count of Oscar wins for each director in the winners list."
   ]
  },
  {
   "cell_type": "code",
   "execution_count": 85,
   "id": "91f02f9b",
   "metadata": {},
   "outputs": [
    {
     "ename": "TypeError",
     "evalue": "unhashable type: 'list'",
     "output_type": "error",
     "traceback": [
      "\u001b[1;31m---------------------------------------------------------------------------\u001b[0m",
      "\u001b[1;31mTypeError\u001b[0m                                 Traceback (most recent call last)",
      "Cell \u001b[1;32mIn [85], line 4\u001b[0m\n\u001b[0;32m      1\u001b[0m win_dic\u001b[38;5;241m=\u001b[39m{}\n\u001b[0;32m      3\u001b[0m \u001b[38;5;28;01mfor\u001b[39;00m year, winner \u001b[38;5;129;01min\u001b[39;00m winners\u001b[38;5;241m.\u001b[39mitems():\n\u001b[1;32m----> 4\u001b[0m     \u001b[38;5;28;01mif\u001b[39;00m \u001b[43mwinner\u001b[49m\u001b[43m \u001b[49m\u001b[38;5;129;43;01mnot\u001b[39;49;00m\u001b[43m \u001b[49m\u001b[38;5;129;43;01min\u001b[39;49;00m\u001b[43m \u001b[49m\u001b[43mwin_dic\u001b[49m:\n\u001b[0;32m      5\u001b[0m         win_dic[winner]\u001b[38;5;241m=\u001b[39m \u001b[38;5;241m1\u001b[39m \n\u001b[0;32m      6\u001b[0m     \u001b[38;5;28;01melse\u001b[39;00m: \n",
      "\u001b[1;31mTypeError\u001b[0m: unhashable type: 'list'"
     ]
    }
   ],
   "source": [
    "win_dic={}\n",
    "\n",
    "for year, winner in winners.items():\n",
    "    if winner not in win_dic:\n",
    "        win_dic[winner]= 1 \n",
    "    else: \n",
    "        win_dic[winner] += 1 \n",
    "            "
   ]
  },
  {
   "cell_type": "markdown",
   "id": "c4300c65",
   "metadata": {},
   "source": [
    "*Notice that the winners dictionary has lists for values. Hence, we'll need to pull the element out of the list first.*"
   ]
  },
  {
   "cell_type": "code",
   "execution_count": 86,
   "id": "458430dd",
   "metadata": {},
   "outputs": [],
   "source": [
    "### A dictionary with the number of wins\n",
    "win_dic={}\n",
    "\n",
    "for year, winner in winners.items():\n",
    "    for name in winner: \n",
    "        if name not in win_dic:\n",
    "            win_dic[name]= 1 \n",
    "        else: \n",
    "            win_dic[name] += 1 \n",
    "            "
   ]
  },
  {
   "cell_type": "code",
   "execution_count": 87,
   "id": "7ec2b784",
   "metadata": {},
   "outputs": [
    {
     "data": {
      "text/plain": [
       "{'Norman Taurog': 1,\n",
       " 'Frank Borzage': 1,\n",
       " 'Frank Lloyd': 1,\n",
       " 'Frank Capra': 3,\n",
       " 'John Ford': 4,\n",
       " 'Leo McCarey': 2,\n",
       " 'Victor Fleming': 1,\n",
       " 'William Wyler': 3,\n",
       " 'Michael Curtiz': 1,\n",
       " 'Billy Wilder': 2,\n",
       " 'Elia Kazan': 2,\n",
       " 'John Huston': 1,\n",
       " 'Joseph L. Mankiewicz': 2,\n",
       " 'George Stevens': 2,\n",
       " 'Fred Zinnemann': 2,\n",
       " 'Delbert Mann': 1,\n",
       " 'David Lean': 2,\n",
       " 'Vincente Minnelli': 1,\n",
       " 'Jerome Robbins': 1,\n",
       " 'Robert Wise': 2,\n",
       " 'Tony Richardson': 1,\n",
       " 'George Cukor': 1,\n",
       " 'Mike Nichols': 1,\n",
       " 'Carol Reed': 1,\n",
       " 'John Schlesinger': 1,\n",
       " 'Franklin J. Schaffner': 1,\n",
       " 'William Friedkin': 1,\n",
       " 'Bob Fosse': 1,\n",
       " 'George Roy Hill': 1,\n",
       " 'Francis Ford Coppola': 1,\n",
       " 'Milos Forman': 2,\n",
       " 'John G. Avildsen': 1,\n",
       " 'Woody Allen': 1,\n",
       " 'Michael Cimino': 1,\n",
       " 'Robert Benton': 1,\n",
       " 'Robert Redford': 1,\n",
       " 'Warren Beatty': 1,\n",
       " 'Richard Attenborough': 1,\n",
       " 'James L. Brooks': 1,\n",
       " 'Sydney Pollack': 1,\n",
       " 'Oliver Stone': 2,\n",
       " 'Bernardo Bertolucci': 1,\n",
       " 'Barry Levinson': 1,\n",
       " 'Kevin Costner': 1,\n",
       " 'Jonathan Demme': 1,\n",
       " 'Clint Eastwood': 2,\n",
       " 'Steven Spielberg': 2,\n",
       " 'Robert Zemeckis': 1,\n",
       " 'Mel Gibson': 1,\n",
       " 'Anthony Minghella': 1,\n",
       " 'James Cameron': 1,\n",
       " 'Sam Mendes': 1,\n",
       " 'Steven Soderbergh': 1,\n",
       " 'Ron Howard': 1,\n",
       " 'Roman Polanski': 1,\n",
       " 'Peter Jackson': 1,\n",
       " 'Ang Lee': 1,\n",
       " 'Martin Scorsese': 1,\n",
       " 'Ethan Coen': 1,\n",
       " 'Joel Coen': 1,\n",
       " 'Danny Boyle': 1,\n",
       " 'Kathryn Bigelow': 1,\n",
       " 'Tom Hooper': 1}"
      ]
     },
     "execution_count": 87,
     "metadata": {},
     "output_type": "execute_result"
    }
   ],
   "source": [
    "win_dic"
   ]
  },
  {
   "cell_type": "markdown",
   "id": "29ff45cf",
   "metadata": {},
   "source": [
    "### Provide a list with the name(s) of the director(s) with the most Oscar wins. "
   ]
  },
  {
   "cell_type": "code",
   "execution_count": 104,
   "id": "8d410599",
   "metadata": {},
   "outputs": [
    {
     "name": "stdout",
     "output_type": "stream",
     "text": [
      "['John Ford']\n"
     ]
    }
   ],
   "source": [
    "## Using max\n",
    "wins=[]\n",
    "for director, win in win_dic.items():\n",
    "        if win not in wins:\n",
    "            wins.append(win)\n",
    "            \n",
    "most_wins=max(wins)\n",
    "\n",
    "dic_most=[]\n",
    "for director, win in win_dic.items():\n",
    "        if win == most_wins:\n",
    "            dic_most.append(director)\n",
    "\n",
    "print(dic_most)"
   ]
  },
  {
   "cell_type": "code",
   "execution_count": 108,
   "id": "c3ef7979",
   "metadata": {},
   "outputs": [
    {
     "name": "stdout",
     "output_type": "stream",
     "text": [
      "['John Ford']\n"
     ]
    }
   ],
   "source": [
    "## Another way \n",
    "highest_count = max(win_dic.values())\n",
    "most_win_director = [key for key, value in win_dic.items() if value == highest_count]\n",
    "print(most_win_director)"
   ]
  },
  {
   "cell_type": "markdown",
   "id": "b0bfcec8",
   "metadata": {},
   "source": [
    "### Count the number of words on a given list and present them in a dictionary"
   ]
  },
  {
   "cell_type": "code",
   "execution_count": 115,
   "id": "b2771db8",
   "metadata": {},
   "outputs": [
    {
     "name": "stdout",
     "output_type": "stream",
     "text": [
      "{'great': 2, 'expectations': 1, 'the': 2, 'adventures': 2, 'of': 2, 'sherlock': 1, 'holmes': 1, 'gasby': 1, 'hamlet': 1, 'huckleberry': 1, 'fin': 1}\n"
     ]
    }
   ],
   "source": [
    "book_title =  ['great', 'expectations','the', 'adventures', 'of', 'sherlock','holmes','the','great','gasby','hamlet','adventures','of','huckleberry','fin']\n",
    "word_count={}\n",
    "\n",
    "for word in book_title: \n",
    "    if word not in word_count:\n",
    "        word_count[word]=1\n",
    "    else:\n",
    "        word_count[word] +=1\n",
    "print(word_count)"
   ]
  },
  {
   "cell_type": "code",
   "execution_count": 124,
   "id": "f717bbaa",
   "metadata": {},
   "outputs": [
    {
     "name": "stdout",
     "output_type": "stream",
     "text": [
      "{'great': 2, 'expectations': 1, 'the': 2, 'adventures': 2, 'of': 2, 'sherlock': 1, 'holmes': 1, 'gasby': 1, 'hamlet': 1, 'huckleberry': 1, 'fin': 1}\n"
     ]
    }
   ],
   "source": [
    "### A faster way\n",
    "word_count={}\n",
    "for word in book_title:\n",
    "    word_count[word]=word_count.get(word,0)+1\n",
    "print(word_count)   "
   ]
  },
  {
   "cell_type": "markdown",
   "id": "71feb173",
   "metadata": {},
   "source": [
    "The line of code does two things:\n",
    "- First, it adds to the dictionary by imputing with the slice in brackets. \n",
    "- Secondly, it gives a value of zero if the word is not in the dictionary and then adds one. "
   ]
  },
  {
   "cell_type": "markdown",
   "id": "5df929ce",
   "metadata": {},
   "source": [
    "### Add the total weight of a series of labeled items"
   ]
  },
  {
   "cell_type": "code",
   "execution_count": 345,
   "id": "8fd908f6",
   "metadata": {},
   "outputs": [
    {
     "name": "stdout",
     "output_type": "stream",
     "text": [
      "The number of items is: 3\n",
      "Enter key and value: yeast 3\n",
      "Enter key and value: eggs 12\n",
      "Enter key and value: flour 5\n",
      "The total weight for the package is 20 kgs.\n"
     ]
    }
   ],
   "source": [
    "## Get the number of records via input\n",
    "n = int(input('The number of items is: '))\n",
    "\n",
    "## input the keys and values of records \n",
    "d = dict(input(\"Enter key and value: \").split() for _ in range(n))\n",
    "values=list((d.values()))\n",
    "int_values=[int(i) for i in values]\n",
    "\n",
    "total=0\n",
    "for i in int_values: \n",
    "    total +=i\n",
    "    \n",
    "print(f'The total weight for the package is {total} kgs.')"
   ]
  },
  {
   "cell_type": "markdown",
   "id": "9b06fefb",
   "metadata": {},
   "source": [
    "### Print the name and grade of the second lowest score in an imputed list of students "
   ]
  },
  {
   "cell_type": "code",
   "execution_count": 365,
   "id": "e065903c",
   "metadata": {},
   "outputs": [
    {
     "name": "stdout",
     "output_type": "stream",
     "text": [
      "The number of students is: 4\n",
      "Enter name of student and grade: dave 98\n",
      "Enter name of student and grade: ed 97\n",
      "Enter name of student and grade: al 78\n",
      "Enter name of student and grade: mike 80\n",
      "mike has the second lowest grade with 80\n"
     ]
    }
   ],
   "source": [
    "## Get the number of records via input\n",
    "n = int(input('The number of students is: '))\n",
    "\n",
    "## input the keys and values of records \n",
    "d = dict(input(\"Enter name of student and grade: \").split() for i in range(n))\n",
    "values=list((d.values()))\n",
    "values.sort()\n",
    "second_worst_grade= values[1]\n",
    "\n",
    "## Determine which student(s) has the second lowest grade\n",
    "names=[]\n",
    "\n",
    "for key, value in d.items():\n",
    "    if value == second_worst_grade:\n",
    "        names.append(key)\n",
    "\n",
    "for i in names: \n",
    "    print(f\"{i} has the second lowest grade with {second_worst_grade}\")"
   ]
  },
  {
   "cell_type": "markdown",
   "id": "1932f568",
   "metadata": {},
   "source": [
    "## Manipulating strings with functions"
   ]
  },
  {
   "cell_type": "markdown",
   "id": "654533a5",
   "metadata": {},
   "source": [
    "### Write a program to reverse a string"
   ]
  },
  {
   "cell_type": "markdown",
   "id": "bc317af4",
   "metadata": {},
   "source": [
    "Sample String : \"1234abcd\"\n",
    "Expected Output : \"dcba4321\""
   ]
  },
  {
   "cell_type": "code",
   "execution_count": 302,
   "id": "31cab537",
   "metadata": {},
   "outputs": [
    {
     "name": "stdout",
     "output_type": "stream",
     "text": [
      "Input characters with no spaces in between pokasdfqerwa\n"
     ]
    },
    {
     "data": {
      "text/plain": [
       "'awreqfdsakop'"
      ]
     },
     "execution_count": 302,
     "metadata": {},
     "output_type": "execute_result"
    }
   ],
   "source": [
    "## Reversing a string takes 3 negatives. Start in the minus 1, up to minus \"n\" size of the string, \n",
    "## going back one minus step at a time\n",
    "\n",
    "some_string = input('Input characters with no spaces in between: ')\n",
    "n=len(some_string)\n",
    "\n",
    "def revstring(some_string):\n",
    "     return some_string[-1:(-n-1):-1]\n",
    "\n",
    "revstring(some_string)"
   ]
  },
  {
   "cell_type": "markdown",
   "id": "36ea7875",
   "metadata": {},
   "source": [
    "### Write a function that accepts a string and calculate the number of upper case letters and lower case letters"
   ]
  },
  {
   "cell_type": "code",
   "execution_count": 173,
   "id": "d891f91b",
   "metadata": {},
   "outputs": [
    {
     "name": "stdout",
     "output_type": "stream",
     "text": [
      "Input a string with upper and lower case letters\n",
      "The QuicK Brown Fox JUMPED over the lazy FOX\n",
      "The number of lowercase letters is 22 \n",
      "The number of uppercase letters is 14\n"
     ]
    }
   ],
   "source": [
    "some_string = input('Input a string with upper and lower case letters: ')\n",
    "\n",
    "def calculator(some_string): \n",
    "    count1=0\n",
    "    count2=0\n",
    "    for i in some_string:\n",
    "        if (i.islower()):  \n",
    "            count1 += 1\n",
    "        elif (i.isupper()):\n",
    "            count2 += 1\n",
    "    print (f'The number of lowercase letters is {count1} \\nThe number of uppercase letters is {count2}')\n",
    "    \n",
    "calculator(some_string)"
   ]
  },
  {
   "cell_type": "markdown",
   "id": "c2ba3f23",
   "metadata": {},
   "source": [
    "### Write a function that checks whether a passed string is palindrome or not"
   ]
  },
  {
   "cell_type": "code",
   "execution_count": 220,
   "id": "850aa6ed",
   "metadata": {},
   "outputs": [
    {
     "name": "stdout",
     "output_type": "stream",
     "text": [
      "Input a word\n",
      "deified\n",
      "deified is a palindrome\n"
     ]
    }
   ],
   "source": [
    "word=input('Input a word: ')\n",
    "n=len(word)+1\n",
    "\n",
    "def palindrome(word):\n",
    "    if word[0:(n-1)]==word[-1:-n:-1]:\n",
    "        print (f'{word} is a palindrome')\n",
    "    else: \n",
    "        print (f'{word} is not a palindrome')\n",
    "\n",
    "palindrome(word)"
   ]
  },
  {
   "cell_type": "code",
   "execution_count": 234,
   "id": "541e8573",
   "metadata": {},
   "outputs": [
    {
     "data": {
      "text/plain": [
       "'dododo'"
      ]
     },
     "execution_count": 234,
     "metadata": {},
     "output_type": "execute_result"
    }
   ],
   "source": [
    "'do'*3"
   ]
  },
  {
   "cell_type": "markdown",
   "id": "c1c514c0",
   "metadata": {},
   "source": [
    "### Make a pyramid of a two letter word with n rows"
   ]
  },
  {
   "cell_type": "code",
   "execution_count": 246,
   "id": "9f47b315",
   "metadata": {},
   "outputs": [
    {
     "name": "stdout",
     "output_type": "stream",
     "text": [
      "Please input a two letter word\n",
      "do\n",
      "How many rows does the pyramid have\n",
      "5\n",
      "     do\n",
      "    dodo\n",
      "   dododo\n",
      "  dodododo\n",
      " dododododo\n"
     ]
    }
   ],
   "source": [
    "### making it symmetrical \n",
    "n=(input('Please input a two letter word: '))\n",
    "print('How many rows does the pyramid have')\n",
    "m=int(input())\n",
    "\n",
    "# iterarte upto n\n",
    "for i in range(m):\n",
    "    # adjust space\n",
    "    print(' '*(m-i), end='')\n",
    " \n",
    "    # print word\n",
    "    print(''.join(n*(i+1)))"
   ]
  },
  {
   "cell_type": "markdown",
   "id": "96f56091",
   "metadata": {},
   "source": [
    "### Without using any string methods, try to print the following: 123"
   ]
  },
  {
   "cell_type": "code",
   "execution_count": 275,
   "id": "3031bced",
   "metadata": {
    "scrolled": true
   },
   "outputs": [
    {
     "name": "stdout",
     "output_type": "stream",
     "text": [
      "123"
     ]
    },
    {
     "data": {
      "text/plain": [
       "[None, None, None]"
      ]
     },
     "execution_count": 275,
     "metadata": {},
     "output_type": "execute_result"
    }
   ],
   "source": [
    "n=3\n",
    "[print(k, end=\"\") for k in range(1,n+1)]"
   ]
  },
  {
   "cell_type": "markdown",
   "id": "f0432442",
   "metadata": {},
   "source": [
    "*Using * for unpacking a function using positional argument.\n",
    "This method is very useful while printing your data in a raw format (without any comma and brackets ). "
   ]
  },
  {
   "cell_type": "code",
   "execution_count": 276,
   "id": "666c2aa9",
   "metadata": {},
   "outputs": [
    {
     "name": "stdout",
     "output_type": "stream",
     "text": [
      "123\n"
     ]
    }
   ],
   "source": [
    "n=3\n",
    "print(*(k for k in range(1,n+1)), sep=\"\")"
   ]
  },
  {
   "cell_type": "markdown",
   "id": "87f179a6",
   "metadata": {},
   "source": [
    "### Read a given string, change the character at a given index and then print the modified string."
   ]
  },
  {
   "cell_type": "code",
   "execution_count": 366,
   "id": "bee69822",
   "metadata": {},
   "outputs": [],
   "source": [
    "def mutate_string(string, position, character):\n",
    "    p=position\n",
    "    c=character\n",
    "    mod_string = string[:p] + c + string[(p+1):]\n",
    "    return mod_string"
   ]
  },
  {
   "cell_type": "code",
   "execution_count": 367,
   "id": "82c59225",
   "metadata": {},
   "outputs": [
    {
     "data": {
      "text/plain": [
       "'New Halen'"
      ]
     },
     "execution_count": 367,
     "metadata": {},
     "output_type": "execute_result"
    }
   ],
   "source": [
    "mutate_string(\"New Haven\", 6, \"l\")"
   ]
  },
  {
   "cell_type": "markdown",
   "id": "e6918fd7",
   "metadata": {},
   "source": [
    "### Print the number of times that the substring occurs in the given string."
   ]
  },
  {
   "cell_type": "code",
   "execution_count": 368,
   "id": "5a1a04df",
   "metadata": {},
   "outputs": [],
   "source": [
    "def count_substring(string, sub_string):\n",
    "    count=0\n",
    "    s=len(string)\n",
    "    w=len(sub_string)\n",
    "    for i in range(s):\n",
    "        if sub_string==string[i:i+w]:\n",
    "            count +=1\n",
    "    return count"
   ]
  },
  {
   "cell_type": "code",
   "execution_count": 369,
   "id": "e119fb68",
   "metadata": {},
   "outputs": [
    {
     "data": {
      "text/plain": [
       "3"
      ]
     },
     "execution_count": 369,
     "metadata": {},
     "output_type": "execute_result"
    }
   ],
   "source": [
    "count_substring('ABCDABCDABCD','CD')"
   ]
  },
  {
   "cell_type": "markdown",
   "id": "aef9435c",
   "metadata": {},
   "source": [
    "## Functions with integers"
   ]
  },
  {
   "cell_type": "markdown",
   "id": "51abb78c",
   "metadata": {},
   "source": [
    "### Write a function that multiplies the elements in the list by 2  "
   ]
  },
  {
   "cell_type": "code",
   "execution_count": 131,
   "id": "c51e2d74",
   "metadata": {},
   "outputs": [],
   "source": [
    "## defyning a user function\n",
    "def multby2(inputlist):\n",
    "    new_list=[]\n",
    "    for i in inputlist:\n",
    "        new_list.append(i*2)\n",
    "    return new_list"
   ]
  },
  {
   "cell_type": "code",
   "execution_count": 132,
   "id": "ed36da47",
   "metadata": {},
   "outputs": [
    {
     "data": {
      "text/plain": [
       "[6, 8, 10]"
      ]
     },
     "execution_count": 132,
     "metadata": {},
     "output_type": "execute_result"
    }
   ],
   "source": [
    "multby2([3, 4, 5])"
   ]
  },
  {
   "cell_type": "markdown",
   "id": "6eabcca5",
   "metadata": {},
   "source": [
    "#### Simplified version with list comprehension "
   ]
  },
  {
   "cell_type": "code",
   "execution_count": 133,
   "id": "a695acf0",
   "metadata": {},
   "outputs": [],
   "source": [
    "def multby2(inputlist):\n",
    "    newlist=[k*2 for k in inputlist]\n",
    "    return newlist"
   ]
  },
  {
   "cell_type": "code",
   "execution_count": 134,
   "id": "e0d5387d",
   "metadata": {},
   "outputs": [
    {
     "data": {
      "text/plain": [
       "[6, 8, 10]"
      ]
     },
     "execution_count": 134,
     "metadata": {},
     "output_type": "execute_result"
    }
   ],
   "source": [
    "multby2([3, 4, 5])"
   ]
  },
  {
   "cell_type": "markdown",
   "id": "92277b1e",
   "metadata": {},
   "source": [
    "#### Using input "
   ]
  },
  {
   "cell_type": "code",
   "execution_count": 135,
   "id": "7951e28b",
   "metadata": {},
   "outputs": [
    {
     "name": "stdout",
     "output_type": "stream",
     "text": [
      "3 4 5\n",
      "[6, 8, 10]\n"
     ]
    }
   ],
   "source": [
    "integer_list = map(int, input().split())\n",
    "integer_list = list(integer_list)\n",
    "newlist=[k*2 for k in integer_list]\n",
    "print(newlist)"
   ]
  },
  {
   "cell_type": "markdown",
   "id": "6ac7c281",
   "metadata": {},
   "source": [
    "### Write a function to sum all the numbers in a list"
   ]
  },
  {
   "cell_type": "code",
   "execution_count": 140,
   "id": "bc5671d4",
   "metadata": {},
   "outputs": [
    {
     "name": "stdout",
     "output_type": "stream",
     "text": [
      "Input five integers each separated by a space\n",
      "2 4 5 7 8\n"
     ]
    },
    {
     "data": {
      "text/plain": [
       "26"
      ]
     },
     "execution_count": 140,
     "metadata": {},
     "output_type": "execute_result"
    }
   ],
   "source": [
    "def add_list(some_list):\n",
    "    for element in some_list: \n",
    "        return sum(some_list)\n",
    "\n",
    "print('Input only integers each separated by a space')\n",
    "some_list = map(int, input().split())\n",
    "some_list = list(some_list)\n",
    "\n",
    "add_list(some_list)"
   ]
  },
  {
   "cell_type": "markdown",
   "id": "e76cc950",
   "metadata": {},
   "source": [
    "### Write a function to multiply all the numbers in a list"
   ]
  },
  {
   "cell_type": "code",
   "execution_count": 146,
   "id": "f9ca152d",
   "metadata": {},
   "outputs": [
    {
     "name": "stdout",
     "output_type": "stream",
     "text": [
      "Input only integers each separated by a space\n",
      "3 4 5 6\n"
     ]
    },
    {
     "data": {
      "text/plain": [
       "360"
      ]
     },
     "execution_count": 146,
     "metadata": {},
     "output_type": "execute_result"
    }
   ],
   "source": [
    "def mult_list(some_list):\n",
    "    result=1\n",
    "    for i in some_list:\n",
    "        result *= i\n",
    "    return result\n",
    "\n",
    "print('Input only integers each separated by a space')\n",
    "some_list = map(int, input().split())\n",
    "some_list = list(some_list)\n",
    "\n",
    "mult_list(some_list)"
   ]
  },
  {
   "cell_type": "markdown",
   "id": "a7bc1cce",
   "metadata": {},
   "source": [
    "### Write a function to check whether a number falls in a given range"
   ]
  },
  {
   "cell_type": "code",
   "execution_count": 171,
   "id": "29efdec4",
   "metadata": {},
   "outputs": [
    {
     "name": "stdout",
     "output_type": "stream",
     "text": [
      "Input an integer\n",
      "5\n",
      "Input an integer to use as the range\n",
      "100\n",
      "The number 5 is in the range of 100\n"
     ]
    }
   ],
   "source": [
    "print('Input an integer')\n",
    "n=int(input())\n",
    "print('Input an integer to use as the range')\n",
    "m=int(input())\n",
    "\n",
    "def range_verifier(n, m):\n",
    "    list_range=range(m+1)\n",
    "    if n in list_range: \n",
    "        print (f'The number {n} is in the range of {m}')\n",
    "    else: \n",
    "        print (f'The number {n} is not in the range of {m}')\n",
    "\n",
    "range_verifier(n,m)"
   ]
  },
  {
   "cell_type": "markdown",
   "id": "3c851c66",
   "metadata": {},
   "source": [
    "### Write a function that takes a number as a parameter and check the number is prime or not."
   ]
  },
  {
   "cell_type": "code",
   "execution_count": 182,
   "id": "bf91b543",
   "metadata": {},
   "outputs": [],
   "source": [
    "## One way\n",
    "def test_prime(n):\n",
    "    if (n==1):\n",
    "        return print (f' 1 is not a prime number')\n",
    "    elif (n==2):\n",
    "        return print (f' 2 is a prime number')\n",
    "    else:\n",
    "        for x in range(2,n):\n",
    "            if(n % x==0):\n",
    "                return print(f' {n} is not a prime number')\n",
    "        return print(f'{n} is a prime number')     "
   ]
  },
  {
   "cell_type": "code",
   "execution_count": 183,
   "id": "8f20fd60",
   "metadata": {},
   "outputs": [
    {
     "name": "stdout",
     "output_type": "stream",
     "text": [
      "53 is a prime number\n"
     ]
    }
   ],
   "source": [
    "test_prime(53)"
   ]
  },
  {
   "cell_type": "code",
   "execution_count": 184,
   "id": "85040c99",
   "metadata": {},
   "outputs": [],
   "source": [
    "## A second way\n",
    "def prime_eval(x): \n",
    "    assert isinstance(x, int), 'X must be an integer'\n",
    "    factors=0\n",
    "    for i in range (x):\n",
    "        if x%(i+1)==0:\n",
    "           factors +=1\n",
    "    if factors > 2: \n",
    "        print (f'{x} is not a prime number')\n",
    "    else: \n",
    "        print (f'{x} is a prime number')      "
   ]
  },
  {
   "cell_type": "code",
   "execution_count": 185,
   "id": "1eabf41a",
   "metadata": {},
   "outputs": [
    {
     "name": "stdout",
     "output_type": "stream",
     "text": [
      "44 is not a prime number\n"
     ]
    }
   ],
   "source": [
    "prime_eval(44)"
   ]
  },
  {
   "cell_type": "markdown",
   "id": "65a84aeb",
   "metadata": {},
   "source": [
    "#### Using input"
   ]
  },
  {
   "cell_type": "code",
   "execution_count": 187,
   "id": "7de18041",
   "metadata": {},
   "outputs": [
    {
     "name": "stdout",
     "output_type": "stream",
     "text": [
      "Input an integer\n",
      "45\n",
      "45 is not a prime number\n"
     ]
    }
   ],
   "source": [
    "print('Input an integer')\n",
    "x=int(input())\n",
    "\n",
    "def prime_eval(x): \n",
    "    assert isinstance(x, int), 'X must be an integer'\n",
    "    factors=0\n",
    "    for i in range (x):\n",
    "        if x%(i+1)==0:\n",
    "           factors +=1\n",
    "    if factors > 2: \n",
    "        print (f'{x} is not a prime number')\n",
    "    else: \n",
    "        print (f'{x} is a prime number')\n",
    "\n",
    "prime_eval(x)"
   ]
  },
  {
   "cell_type": "markdown",
   "id": "1f05bb05",
   "metadata": {},
   "source": [
    "### Write a function to check whether a number is perfect or not"
   ]
  },
  {
   "cell_type": "code",
   "execution_count": 203,
   "id": "ebf08b77",
   "metadata": {},
   "outputs": [
    {
     "name": "stdout",
     "output_type": "stream",
     "text": [
      "Input an integer\n",
      "496\n",
      "496 is not a perfect number\n",
      "[2, 4, 8, 16, 31, 62, 124, 248]\n"
     ]
    }
   ],
   "source": [
    "#A perfect number is a positive integer that is equal to the sum of its proper divisors. \n",
    "print('Input an integer')\n",
    "x=int(input())\n",
    "\n",
    "def perfect(x):\n",
    "    divisors=[]\n",
    "\n",
    "### First step: get the divisors\n",
    "    for i in range(2,x):  ## it's important to skip the zero. \n",
    "        if x%(i)==0:\n",
    "           divisors.append(i)  \n",
    "        \n",
    "### Second step: add the divisors up\n",
    "    div_sum=sum(divisors) \n",
    "\n",
    "### Third step: check if divisors add to the number\n",
    "    if div_sum ==0: \n",
    "        print (f'{x} is a prime number and, therefore, not a perfect number')\n",
    "    elif div_sum == x: \n",
    "        print (f'{x} is a perfect number')\n",
    "        print(divisors)\n",
    "    else:\n",
    "        print (f'{x} is not a perfect number')\n",
    "        print(divisors)\n",
    "\n",
    "perfect(x)    "
   ]
  },
  {
   "cell_type": "markdown",
   "id": "2df1459e",
   "metadata": {},
   "source": [
    "### Write a function that prints out the first n rows of Pascal's triangle."
   ]
  },
  {
   "cell_type": "code",
   "execution_count": 222,
   "id": "e4beed2b",
   "metadata": {},
   "outputs": [
    {
     "name": "stdout",
     "output_type": "stream",
     "text": [
      "8\n",
      "1\n",
      "11\n",
      "121\n",
      "1331\n",
      "14641\n",
      "161051\n",
      "1771561\n",
      "19487171\n"
     ]
    }
   ],
   "source": [
    "### using powers of eleven \n",
    "n=int(input())\n",
    "\n",
    "for i in range(n):\n",
    "    print(11**i)"
   ]
  },
  {
   "cell_type": "code",
   "execution_count": 240,
   "id": "65f019a4",
   "metadata": {},
   "outputs": [
    {
     "name": "stdout",
     "output_type": "stream",
     "text": [
      "8\n",
      "        1\n",
      "       1 1\n",
      "      1 2 1\n",
      "     1 3 3 1\n",
      "    1 4 6 4 1\n",
      "   1 6 1 0 5 1\n",
      "  1 7 7 1 5 6 1\n",
      " 1 9 4 8 7 1 7 1\n"
     ]
    }
   ],
   "source": [
    "### making it symmetrical \n",
    "n=int(input())\n",
    " \n",
    "# iterarte upto n\n",
    "for i in range(n):\n",
    "    # adjust space\n",
    "    print(' '*(n-i), end='')\n",
    " \n",
    "    # compute power of 11\n",
    "    print(' '.join(map(str, str(11**i))))"
   ]
  },
  {
   "cell_type": "markdown",
   "id": "4ab99d7c",
   "metadata": {},
   "source": [
    "**Using map**\n",
    "\n",
    "map(`fun`, `iter`)\n",
    "\n",
    "`fun` : is a function to which map passes each element of given iterable.\n",
    "`iter`: is the iterable which is to be mapped.\n",
    "\n",
    "Returns a list of the results after applying the given function  \n",
    "to each item of a given iterable (list, tuple etc.)"
   ]
  },
  {
   "cell_type": "markdown",
   "id": "e1135f5c",
   "metadata": {},
   "source": [
    "### Write a program to access a function inside a function"
   ]
  },
  {
   "cell_type": "code",
   "execution_count": 277,
   "id": "6eaf9556",
   "metadata": {},
   "outputs": [
    {
     "name": "stdout",
     "output_type": "stream",
     "text": [
      "5\n"
     ]
    }
   ],
   "source": [
    "def meta_calc(z):\n",
    "    def program (x):\n",
    "        nonlocal z\n",
    "        z += 1\n",
    "        return z + x\n",
    "    return program\n",
    "func=meta_calc(2)\n",
    "print (func(2))"
   ]
  },
  {
   "cell_type": "markdown",
   "id": "a8e4592a",
   "metadata": {},
   "source": [
    "### Try, exceptions and errors"
   ]
  },
  {
   "cell_type": "markdown",
   "id": "d9b98c26",
   "metadata": {},
   "source": [
    "The code prompts the user for 10 integers. It then finds and prints the sum of all of the even numbers among those that were entered. The exception prints out an error in case a string is imputed"
   ]
  },
  {
   "cell_type": "code",
   "execution_count": 298,
   "id": "e1a1ecc9",
   "metadata": {},
   "outputs": [
    {
     "name": "stdout",
     "output_type": "stream",
     "text": [
      "Enter any number: 4\n",
      "Enter any number: r\n",
      "Incorrect value. That's not an int!\n",
      "Enter any number: 4\n",
      "Enter any number: 4\n",
      "Enter any number: 5\n",
      "Enter any number: 6\n",
      "Enter any number: 7\n",
      "Enter any number: 8\n",
      "Enter any number: 8\n",
      "Enter any number: 4\n",
      "user_list: [4, 4, 4, 6, 8, 8, 4]\n",
      "The sum of the even numbers in user_list is: 38.\n"
     ]
    }
   ],
   "source": [
    "user_list = []  \n",
    "list_sum = 0\n",
    "for i in range(10):\n",
    "    try:\n",
    "        userInput = int(input(\"Enter any number: \"))\n",
    "        if userInput % 2 == 0:\n",
    "            list_sum += userInput\n",
    "            user_list.append(userInput)\n",
    "    except ValueError:\n",
    "        print(\"Incorrect value. That's not an int!\")\n",
    "\n",
    "print(\"user_list: {}\".format(user_list))\n",
    "print(\"The sum of the even numbers in user_list is: {}.\".format(list_sum))"
   ]
  },
  {
   "cell_type": "markdown",
   "id": "4074e2d2",
   "metadata": {},
   "source": [
    "## Lambda functions: using filter and map"
   ]
  },
  {
   "cell_type": "markdown",
   "id": "c0ba4b29",
   "metadata": {},
   "source": [
    "*Lambda functions are anonymous function means that the function is without a name. As we already know that the def keyword is used to define a normal function in Python. Similarly, the lambda keyword is used to define an anonymous function in Python.*\n",
    "\n",
    "**Syntax: lambda arguments: expression**\n",
    "\n",
    "*This function can have any number of arguments but only one expression, which is evaluated and returned.* "
   ]
  },
  {
   "cell_type": "markdown",
   "id": "603b52dd",
   "metadata": {},
   "source": [
    "### Use lambda function to return cities with less than 10 letters in their name"
   ]
  },
  {
   "cell_type": "code",
   "execution_count": 283,
   "id": "4165e1b7",
   "metadata": {},
   "outputs": [
    {
     "name": "stdout",
     "output_type": "stream",
     "text": [
      "Chicago\n",
      "Denver\n",
      "Boston\n",
      "Houston\n",
      "Seattle\n",
      "Miami\n"
     ]
    }
   ],
   "source": [
    "## Can be done with a list comprehension \n",
    "## On purpose, want to print cities separetely \n",
    "cities = [\"New York City\", \"Los Angeles\", \"Chicago\", \"Mountain View\", \"Denver\", \"Boston\", 'Houston', 'Seattle', 'Miami']\n",
    "\n",
    "short_cities=[i for i in cities if len(i) < 10]\n",
    "for i in short_cities: print(i)"
   ]
  },
  {
   "cell_type": "markdown",
   "id": "38d27964",
   "metadata": {},
   "source": [
    "*This can also be done with a lambda function using `filter`, which checks a condition on an iterable*"
   ]
  },
  {
   "cell_type": "code",
   "execution_count": 286,
   "id": "c86ffef1",
   "metadata": {},
   "outputs": [
    {
     "name": "stdout",
     "output_type": "stream",
     "text": [
      "Chicago\n",
      "Denver\n",
      "Boston\n",
      "Houston\n",
      "Seattle\n",
      "Miami\n"
     ]
    }
   ],
   "source": [
    "short_cities=list(filter(lambda city: len(city)<10 , cities ))\n",
    "for i in short_cities: print(i)"
   ]
  },
  {
   "cell_type": "markdown",
   "id": "670a69ec",
   "metadata": {},
   "source": [
    "### Use a lambda function to find even numbers in a list"
   ]
  },
  {
   "cell_type": "code",
   "execution_count": 285,
   "id": "12bde6c7",
   "metadata": {},
   "outputs": [
    {
     "data": {
      "text/plain": [
       "[2, 4, 6, 8]"
      ]
     },
     "execution_count": 285,
     "metadata": {},
     "output_type": "execute_result"
    }
   ],
   "source": [
    "list_1 = [1,2,3,4,5,6,7,8,9]\n",
    "list(filter(lambda x: x%2==0, list_1))"
   ]
  },
  {
   "cell_type": "markdown",
   "id": "33217590",
   "metadata": {},
   "source": [
    "### Use lambda function to calculate the cubed power of the numbers on a list"
   ]
  },
  {
   "cell_type": "markdown",
   "id": "a7e51216",
   "metadata": {},
   "source": [
    "Map is used to apply a function to an iterable in order to get a result"
   ]
  },
  {
   "cell_type": "code",
   "execution_count": 291,
   "id": "125b48fc",
   "metadata": {},
   "outputs": [
    {
     "name": "stdout",
     "output_type": "stream",
     "text": [
      "1\n",
      "8\n",
      "27\n",
      "64\n",
      "125\n",
      "216\n",
      "343\n",
      "512\n",
      "729\n"
     ]
    }
   ],
   "source": [
    "list_1 = [1,2,3,4,5,6,7,8,9]\n",
    "cubed = map(lambda x: pow(x,3), list_1)\n",
    "for i in list(cubed): print(i)"
   ]
  },
  {
   "cell_type": "markdown",
   "id": "c5f50775",
   "metadata": {},
   "source": [
    "###  Find the mean of each list in numbers to create the list averages"
   ]
  },
  {
   "cell_type": "code",
   "execution_count": 292,
   "id": "cca04417",
   "metadata": {},
   "outputs": [
    {
     "name": "stdout",
     "output_type": "stream",
     "text": [
      "[57.0, 58.2, 50.6, 27.2]\n"
     ]
    }
   ],
   "source": [
    "numbers = [\n",
    "              [34, 63, 88, 71, 29],\n",
    "              [90, 78, 51, 27, 45],\n",
    "              [63, 37, 85, 46, 22],\n",
    "              [51, 22, 34, 11, 18]\n",
    "           ]\n",
    "\n",
    "def mean(num_list):\n",
    "    return sum(num_list) / len(num_list)\n",
    "\n",
    "averages = list(map(mean, numbers))\n",
    "print(averages)"
   ]
  },
  {
   "cell_type": "markdown",
   "id": "b913f9d9",
   "metadata": {},
   "source": [
    "#### Trying the same with a lambda function "
   ]
  },
  {
   "cell_type": "code",
   "execution_count": 293,
   "id": "254334fa",
   "metadata": {},
   "outputs": [
    {
     "name": "stdout",
     "output_type": "stream",
     "text": [
      "[57.0, 58.2, 50.6, 27.2]\n"
     ]
    }
   ],
   "source": [
    "\n",
    "numbers = [\n",
    "              [34, 63, 88, 71, 29],\n",
    "              [90, 78, 51, 27, 45],\n",
    "              [63, 37, 85, 46, 22],\n",
    "              [51, 22, 34, 11, 18]\n",
    "           ]\n",
    "\n",
    "averages = list(map(lambda num_list: sum(num_list)/len(num_list) , numbers))\n",
    "print (averages)"
   ]
  },
  {
   "cell_type": "markdown",
   "id": "f671f74d",
   "metadata": {},
   "source": [
    "## More list and list comprehension exercises"
   ]
  },
  {
   "cell_type": "markdown",
   "id": "652067fc",
   "metadata": {},
   "source": [
    "### Write a program that takes a list and returns a new list with unique elements of the first list"
   ]
  },
  {
   "cell_type": "code",
   "execution_count": 181,
   "id": "3cdb8b38",
   "metadata": {},
   "outputs": [
    {
     "name": "stdout",
     "output_type": "stream",
     "text": [
      "Input characters each separated by a space\n",
      "1 2 2 2 22 3 3 3 4 44 444 4 \n",
      "['1', '2', '22', '3', '4', '44', '444']\n"
     ]
    }
   ],
   "source": [
    "print('Input characters each separated by a space')\n",
    "some_list = input().split()\n",
    "some_list = set (some_list)\n",
    "some_list = list(some_list)\n",
    "some_list.sort()\n",
    "print(some_list)"
   ]
  },
  {
   "cell_type": "markdown",
   "id": "64440d13",
   "metadata": {},
   "source": [
    "### Write a program that accepts a hyphen-separated sequence of words as input and prints the words in a hyphen-separated sequence after sorting them alphabetically"
   ]
  },
  {
   "cell_type": "code",
   "execution_count": 267,
   "id": "49e39640",
   "metadata": {},
   "outputs": [
    {
     "name": "stdout",
     "output_type": "stream",
     "text": [
      "Input a series of words separated by hyphens\n",
      "Ed-Al-Dave-Mike\n",
      "Al-Dave-Ed-Mike\n"
     ]
    }
   ],
   "source": [
    "print('Input a series of words separated by hyphens')\n",
    "word_list=input().split('-')\n",
    "# Split separates the words individually into a list\n",
    "word_list.sort()\n",
    "print('-'.join(word_list))"
   ]
  },
  {
   "cell_type": "markdown",
   "id": "b027cb6f",
   "metadata": {},
   "source": [
    "## Classes"
   ]
  },
  {
   "cell_type": "markdown",
   "id": "29ad38fc",
   "metadata": {},
   "source": [
    "### Create a class called car with three variables: brand, price & owner "
   ]
  },
  {
   "cell_type": "code",
   "execution_count": 396,
   "id": "8819d3c4",
   "metadata": {},
   "outputs": [],
   "source": [
    "class Car:\n",
    "    def __init__(self, brand, price, owner):\n",
    "        \n",
    "        self.brand = brand\n",
    "        self.price = price\n",
    "        self.owner = owner\n",
    "        \n",
    "    def create_ad(self):\n",
    "        '''\n",
    "        Creates a used car advertisement for this car\n",
    "        '''\n",
    "        print(f'Selling used {self.brand} for ${self.price}.')\n",
    "        print(f'Contact {self.owner} for details.')\n",
    "        \n",
    "    def change_owner(self, new_owner):\n",
    "        self.owner = new_owner # self allows us to access the attributes of the object\n",
    "        "
   ]
  },
  {
   "cell_type": "markdown",
   "id": "d2c7dc9c",
   "metadata": {},
   "source": [
    "### Fill the class with data"
   ]
  },
  {
   "cell_type": "code",
   "execution_count": 397,
   "id": "66282c5b",
   "metadata": {},
   "outputs": [],
   "source": [
    "## Fill with data\n",
    "c1=Car('BMW', 30000, 'John')\n",
    "c2=Car('Ferrari', 40000, 'Paul')\n",
    "c3=Car('Porsche', 50000, 'George')"
   ]
  },
  {
   "cell_type": "code",
   "execution_count": 398,
   "id": "482f7c1f",
   "metadata": {},
   "outputs": [
    {
     "name": "stdout",
     "output_type": "stream",
     "text": [
      "30000\n",
      "Paul\n",
      "Porsche\n"
     ]
    }
   ],
   "source": [
    "## call as data_point.method\n",
    "print(c1.price)\n",
    "print(c2.owner)\n",
    "print(c3.brand)"
   ]
  },
  {
   "cell_type": "markdown",
   "id": "3f0be926",
   "metadata": {},
   "source": [
    "### Call print_ad method"
   ]
  },
  {
   "cell_type": "code",
   "execution_count": 400,
   "id": "af9b13e2",
   "metadata": {},
   "outputs": [
    {
     "name": "stdout",
     "output_type": "stream",
     "text": [
      "Selling used Porsche for $50000.\n",
      "Contact George for details.\n"
     ]
    }
   ],
   "source": [
    "c3.create_ad()"
   ]
  },
  {
   "cell_type": "markdown",
   "id": "309f233c",
   "metadata": {},
   "source": [
    "### Change C3 owner"
   ]
  },
  {
   "cell_type": "code",
   "execution_count": 402,
   "id": "cc3a37f0",
   "metadata": {},
   "outputs": [],
   "source": [
    "c3.change_owner('Ringo')"
   ]
  },
  {
   "cell_type": "code",
   "execution_count": 403,
   "id": "80e9433b",
   "metadata": {},
   "outputs": [
    {
     "data": {
      "text/plain": [
       "'Ringo'"
      ]
     },
     "execution_count": 403,
     "metadata": {},
     "output_type": "execute_result"
    }
   ],
   "source": [
    "c3.owner"
   ]
  },
  {
   "cell_type": "code",
   "execution_count": 404,
   "id": "a8dc62a4",
   "metadata": {},
   "outputs": [
    {
     "name": "stdout",
     "output_type": "stream",
     "text": [
      "Selling used Porsche for $50000.\n",
      "Contact Ringo for details.\n"
     ]
    }
   ],
   "source": [
    "c3.create_ad()"
   ]
  },
  {
   "cell_type": "markdown",
   "id": "d935c097",
   "metadata": {},
   "source": [
    "### Create a class called Basket, which represents a customer's shopping basket for online transactions."
   ]
  },
  {
   "cell_type": "code",
   "execution_count": 405,
   "id": "a6ff4200",
   "metadata": {},
   "outputs": [
    {
     "name": "stdout",
     "output_type": "stream",
     "text": [
      "100\n"
     ]
    }
   ],
   "source": [
    "class Basket:\n",
    "  \n",
    "   '''\n",
    "   Set a hard upper limit on the size of the transaction baskets.\n",
    "   '''\n",
    "    max_size = 100\n",
    "\n",
    "# Create an instance\n",
    "b = Basket()\n",
    "print(b.max_size)"
   ]
  },
  {
   "cell_type": "markdown",
   "id": "058c9e1a",
   "metadata": {},
   "source": [
    "### Create the items, amounts and costs attributes"
   ]
  },
  {
   "cell_type": "code",
   "execution_count": 427,
   "id": "6154467f",
   "metadata": {},
   "outputs": [],
   "source": [
    "class Basket:\n",
    "    '''\n",
    "    A Class to represent an online shopping basket\n",
    "    '''\n",
    "    \n",
    "    max_size = 100\n",
    "\n",
    "    def __init__(self, items, amounts, costs):\n",
    "\n",
    "        self.items = items\n",
    "        self.amounts = amounts\n",
    "        self.costs = costs\n",
    "\n",
    "    def add_item(self, new_item):\n",
    "        '''\n",
    "        Takes an (item, amount, price) tuple and adds to the basket\n",
    "        '''\n",
    "        \n",
    "        #We can add asserts here to check new_item is a tuple and each new element has the appropriate datatype. \n",
    "        \n",
    "        self.items.append(new_item[0])\n",
    "        self.amounts.append(new_item[1])\n",
    "        self.costs.append(new_item[2])"
   ]
  },
  {
   "cell_type": "markdown",
   "id": "02da08a2",
   "metadata": {},
   "source": [
    "### Impute a basket"
   ]
  },
  {
   "cell_type": "code",
   "execution_count": 428,
   "id": "b225b4c7",
   "metadata": {},
   "outputs": [],
   "source": [
    "b1=Basket(['Razor', 'Milk', 'Bread'], \n",
    "            [1, 2, 3], \n",
    "            [12.99, 4.99, 2.99])"
   ]
  },
  {
   "cell_type": "code",
   "execution_count": 429,
   "id": "f6b01119",
   "metadata": {},
   "outputs": [
    {
     "name": "stdout",
     "output_type": "stream",
     "text": [
      "['Razor', 'Milk', 'Bread']\n"
     ]
    }
   ],
   "source": [
    "print(b1.items)"
   ]
  },
  {
   "cell_type": "code",
   "execution_count": 430,
   "id": "b08a1567",
   "metadata": {},
   "outputs": [],
   "source": [
    "b2 = Basket(['apples'], [3], [0.70])"
   ]
  },
  {
   "cell_type": "code",
   "execution_count": 431,
   "id": "3b628ff9",
   "metadata": {},
   "outputs": [],
   "source": [
    "my_items = ('orange', 1, 0.30)"
   ]
  },
  {
   "cell_type": "code",
   "execution_count": 432,
   "id": "9c1a2e6c",
   "metadata": {},
   "outputs": [],
   "source": [
    "b1.add_item(my_items)"
   ]
  },
  {
   "cell_type": "code",
   "execution_count": 434,
   "id": "6bb852f9",
   "metadata": {},
   "outputs": [
    {
     "name": "stdout",
     "output_type": "stream",
     "text": [
      "['Razor', 'Milk', 'Bread', 'orange']\n"
     ]
    }
   ],
   "source": [
    "print(b1.items)"
   ]
  },
  {
   "cell_type": "markdown",
   "id": "772cbf49",
   "metadata": {},
   "source": [
    "--0--"
   ]
  },
  {
   "cell_type": "code",
   "execution_count": null,
   "id": "33e4f5a2",
   "metadata": {},
   "outputs": [],
   "source": []
  }
 ],
 "metadata": {
  "kernelspec": {
   "display_name": "Python 3 (ipykernel)",
   "language": "python",
   "name": "python3"
  },
  "language_info": {
   "codemirror_mode": {
    "name": "ipython",
    "version": 3
   },
   "file_extension": ".py",
   "mimetype": "text/x-python",
   "name": "python",
   "nbconvert_exporter": "python",
   "pygments_lexer": "ipython3",
   "version": "3.10.6"
  },
  "toc": {
   "base_numbering": 1,
   "nav_menu": {},
   "number_sections": true,
   "sideBar": true,
   "skip_h1_title": true,
   "title_cell": "Table of Contents",
   "title_sidebar": "Contents",
   "toc_cell": true,
   "toc_position": {
    "height": "calc(100% - 180px)",
    "left": "10px",
    "top": "150px",
    "width": "303.837px"
   },
   "toc_section_display": true,
   "toc_window_display": true
  },
  "varInspector": {
   "cols": {
    "lenName": 16,
    "lenType": 16,
    "lenVar": 40
   },
   "kernels_config": {
    "python": {
     "delete_cmd_postfix": "",
     "delete_cmd_prefix": "del ",
     "library": "var_list.py",
     "varRefreshCmd": "print(var_dic_list())"
    },
    "r": {
     "delete_cmd_postfix": ") ",
     "delete_cmd_prefix": "rm(",
     "library": "var_list.r",
     "varRefreshCmd": "cat(var_dic_list()) "
    }
   },
   "types_to_exclude": [
    "module",
    "function",
    "builtin_function_or_method",
    "instance",
    "_Feature"
   ],
   "window_display": false
  }
 },
 "nbformat": 4,
 "nbformat_minor": 5
}
